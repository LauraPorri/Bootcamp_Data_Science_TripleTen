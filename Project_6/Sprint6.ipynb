{
 "cells": [
  {
   "cell_type": "markdown",
   "id": "fc525a7d",
   "metadata": {},
   "source": [
    "Hola &#x1F600;\n",
    "\n",
    "Soy **Hesus Garcia**  como \"Jesús\" pero con H. Sé que puede ser confuso al principio, pero una vez que lo recuerdes, ¡nunca lo olvidarás! &#x1F31D;\t. Como revisor de código de Triple-Ten, estoy emocionado de examinar tus proyectos y ayudarte a mejorar tus habilidades en programación. si has cometido algún error, no te preocupes, pues ¡estoy aquí para ayudarte a corregirlo y hacer que tu código brille! &#x1F31F;. Si encuentro algún detalle en tu código, te lo señalaré para que lo corrijas, ya que mi objetivo es ayudarte a prepararte para un ambiente de trabajo real, donde el líder de tu equipo actuaría de la misma manera. Si no puedes solucionar el problema, te proporcionaré más información en la próxima oportunidad. Cuando encuentres un comentario,  **por favor, no los muevas, no los modifiques ni los borres**. \n",
    "\n",
    "Revisaré cuidadosamente todas las implementaciones que has realizado para cumplir con los requisitos y te proporcionaré mis comentarios de la siguiente manera:\n",
    "\n",
    "\n",
    "<div class=\"alert alert-block alert-success\">\n",
    "<b>Comentario del revisor</b> <a class=“tocSkip”></a>\n",
    "Si todo está perfecto.\n",
    "</div>\n",
    "\n",
    "<div class=\"alert alert-block alert-warning\">\n",
    "<b>Comentario del revisor</b> <a class=“tocSkip”></a>\n",
    "Si tu código está bien pero se puede mejorar o hay algún detalle que le hace falta.\n",
    "</div>\n",
    "\n",
    "<div class=\"alert alert-block alert-danger\">\n",
    "<b>Comentario del revisor</b> <a class=“tocSkip”></a>\n",
    "Si de pronto hace falta algo o existe algún problema con tu código o conclusiones.\n",
    "</div>\n",
    "\n",
    "Puedes responderme de esta forma:\n",
    "<div class=\"alert alert-block alert-info\">\n",
    "<b>Respuesta del estudiante</b> <a class=“tocSkip”></a>\n",
    "</div>\n",
    "\n",
    "</br>\n",
    "\n",
    "**¡Empecemos!**  &#x1F680;"
   ]
  },
  {
   "cell_type": "markdown",
   "id": "d57c3da9",
   "metadata": {},
   "source": [
    "# Proyecto 6"
   ]
  },
  {
   "cell_type": "markdown",
   "id": "b6834db0",
   "metadata": {},
   "source": [
    "<div class=\"alert alert-block alert-warning\">\n",
    "<b>Comentario del revisor</b> <a class=“tocSkip”></a>\n",
    "Considera la posibilidad de incluir una tabla de contenidos al inicio de tu proyecto. Esto no solo mejorará la estructura y presentación de tu análisis, sino que también facilitará la navegación y comprensión de los distintos temas tratados, especialmente para proyectos extensos con múltiples secciones y subsecciones. Una tabla de contenidos bien organizada puede mejorar significativamente la experiencia del lector y destacar la profesionalidad de tu trabajo.\n",
    "</div>\n"
   ]
  },
  {
   "cell_type": "markdown",
   "id": "ab16dfa8",
   "metadata": {},
   "source": [
    "## Paso 1. Abre el archivo de datos y estudia la información general "
   ]
  },
  {
   "cell_type": "code",
   "execution_count": 1,
   "id": "93f93fad",
   "metadata": {},
   "outputs": [],
   "source": [
    "#Importando librerías\n",
    "import pandas as pd\n",
    "import numpy as np\n",
    "import seaborn as sns\n",
    "from matplotlib import pyplot as plt\n",
    "from math import factorial\n",
    "from scipy import stats as st"
   ]
  },
  {
   "cell_type": "code",
   "execution_count": 2,
   "id": "3c623fcd",
   "metadata": {
    "scrolled": true
   },
   "outputs": [
    {
     "data": {
      "text/html": [
       "<div>\n",
       "<style scoped>\n",
       "    .dataframe tbody tr th:only-of-type {\n",
       "        vertical-align: middle;\n",
       "    }\n",
       "\n",
       "    .dataframe tbody tr th {\n",
       "        vertical-align: top;\n",
       "    }\n",
       "\n",
       "    .dataframe thead th {\n",
       "        text-align: right;\n",
       "    }\n",
       "</style>\n",
       "<table border=\"1\" class=\"dataframe\">\n",
       "  <thead>\n",
       "    <tr style=\"text-align: right;\">\n",
       "      <th></th>\n",
       "      <th>Name</th>\n",
       "      <th>Platform</th>\n",
       "      <th>Year_of_Release</th>\n",
       "      <th>Genre</th>\n",
       "      <th>NA_sales</th>\n",
       "      <th>EU_sales</th>\n",
       "      <th>JP_sales</th>\n",
       "      <th>Other_sales</th>\n",
       "      <th>Critic_Score</th>\n",
       "      <th>User_Score</th>\n",
       "      <th>Rating</th>\n",
       "    </tr>\n",
       "  </thead>\n",
       "  <tbody>\n",
       "    <tr>\n",
       "      <th>0</th>\n",
       "      <td>Wii Sports</td>\n",
       "      <td>Wii</td>\n",
       "      <td>2006.0</td>\n",
       "      <td>Sports</td>\n",
       "      <td>41.36</td>\n",
       "      <td>28.96</td>\n",
       "      <td>3.77</td>\n",
       "      <td>8.45</td>\n",
       "      <td>76.0</td>\n",
       "      <td>8</td>\n",
       "      <td>E</td>\n",
       "    </tr>\n",
       "    <tr>\n",
       "      <th>1</th>\n",
       "      <td>Super Mario Bros.</td>\n",
       "      <td>NES</td>\n",
       "      <td>1985.0</td>\n",
       "      <td>Platform</td>\n",
       "      <td>29.08</td>\n",
       "      <td>3.58</td>\n",
       "      <td>6.81</td>\n",
       "      <td>0.77</td>\n",
       "      <td>NaN</td>\n",
       "      <td>NaN</td>\n",
       "      <td>NaN</td>\n",
       "    </tr>\n",
       "    <tr>\n",
       "      <th>2</th>\n",
       "      <td>Mario Kart Wii</td>\n",
       "      <td>Wii</td>\n",
       "      <td>2008.0</td>\n",
       "      <td>Racing</td>\n",
       "      <td>15.68</td>\n",
       "      <td>12.76</td>\n",
       "      <td>3.79</td>\n",
       "      <td>3.29</td>\n",
       "      <td>82.0</td>\n",
       "      <td>8.3</td>\n",
       "      <td>E</td>\n",
       "    </tr>\n",
       "    <tr>\n",
       "      <th>3</th>\n",
       "      <td>Wii Sports Resort</td>\n",
       "      <td>Wii</td>\n",
       "      <td>2009.0</td>\n",
       "      <td>Sports</td>\n",
       "      <td>15.61</td>\n",
       "      <td>10.93</td>\n",
       "      <td>3.28</td>\n",
       "      <td>2.95</td>\n",
       "      <td>80.0</td>\n",
       "      <td>8</td>\n",
       "      <td>E</td>\n",
       "    </tr>\n",
       "    <tr>\n",
       "      <th>4</th>\n",
       "      <td>Pokemon Red/Pokemon Blue</td>\n",
       "      <td>GB</td>\n",
       "      <td>1996.0</td>\n",
       "      <td>Role-Playing</td>\n",
       "      <td>11.27</td>\n",
       "      <td>8.89</td>\n",
       "      <td>10.22</td>\n",
       "      <td>1.00</td>\n",
       "      <td>NaN</td>\n",
       "      <td>NaN</td>\n",
       "      <td>NaN</td>\n",
       "    </tr>\n",
       "  </tbody>\n",
       "</table>\n",
       "</div>"
      ],
      "text/plain": [
       "                       Name Platform  Year_of_Release         Genre  NA_sales  \\\n",
       "0                Wii Sports      Wii           2006.0        Sports     41.36   \n",
       "1         Super Mario Bros.      NES           1985.0      Platform     29.08   \n",
       "2            Mario Kart Wii      Wii           2008.0        Racing     15.68   \n",
       "3         Wii Sports Resort      Wii           2009.0        Sports     15.61   \n",
       "4  Pokemon Red/Pokemon Blue       GB           1996.0  Role-Playing     11.27   \n",
       "\n",
       "   EU_sales  JP_sales  Other_sales  Critic_Score User_Score Rating  \n",
       "0     28.96      3.77         8.45          76.0          8      E  \n",
       "1      3.58      6.81         0.77           NaN        NaN    NaN  \n",
       "2     12.76      3.79         3.29          82.0        8.3      E  \n",
       "3     10.93      3.28         2.95          80.0          8      E  \n",
       "4      8.89     10.22         1.00           NaN        NaN    NaN  "
      ]
     },
     "execution_count": 2,
     "metadata": {},
     "output_type": "execute_result"
    }
   ],
   "source": [
    "#Cargando dataset\n",
    "games = pd.read_csv('https://practicum-content.s3.us-west-1.amazonaws.com/datasets/games.csv')\n",
    "games.head()"
   ]
  },
  {
   "cell_type": "code",
   "execution_count": 3,
   "id": "e4f28e00",
   "metadata": {},
   "outputs": [
    {
     "name": "stdout",
     "output_type": "stream",
     "text": [
      "<class 'pandas.core.frame.DataFrame'>\n",
      "RangeIndex: 16715 entries, 0 to 16714\n",
      "Data columns (total 11 columns):\n",
      " #   Column           Non-Null Count  Dtype  \n",
      "---  ------           --------------  -----  \n",
      " 0   Name             16713 non-null  object \n",
      " 1   Platform         16715 non-null  object \n",
      " 2   Year_of_Release  16446 non-null  float64\n",
      " 3   Genre            16713 non-null  object \n",
      " 4   NA_sales         16715 non-null  float64\n",
      " 5   EU_sales         16715 non-null  float64\n",
      " 6   JP_sales         16715 non-null  float64\n",
      " 7   Other_sales      16715 non-null  float64\n",
      " 8   Critic_Score     8137 non-null   float64\n",
      " 9   User_Score       10014 non-null  object \n",
      " 10  Rating           9949 non-null   object \n",
      "dtypes: float64(6), object(5)\n",
      "memory usage: 1.4+ MB\n"
     ]
    },
    {
     "data": {
      "text/html": [
       "<div>\n",
       "<style scoped>\n",
       "    .dataframe tbody tr th:only-of-type {\n",
       "        vertical-align: middle;\n",
       "    }\n",
       "\n",
       "    .dataframe tbody tr th {\n",
       "        vertical-align: top;\n",
       "    }\n",
       "\n",
       "    .dataframe thead th {\n",
       "        text-align: right;\n",
       "    }\n",
       "</style>\n",
       "<table border=\"1\" class=\"dataframe\">\n",
       "  <thead>\n",
       "    <tr style=\"text-align: right;\">\n",
       "      <th></th>\n",
       "      <th>Year_of_Release</th>\n",
       "      <th>NA_sales</th>\n",
       "      <th>EU_sales</th>\n",
       "      <th>JP_sales</th>\n",
       "      <th>Other_sales</th>\n",
       "      <th>Critic_Score</th>\n",
       "    </tr>\n",
       "  </thead>\n",
       "  <tbody>\n",
       "    <tr>\n",
       "      <th>count</th>\n",
       "      <td>16446.000000</td>\n",
       "      <td>16715.000000</td>\n",
       "      <td>16715.000000</td>\n",
       "      <td>16715.000000</td>\n",
       "      <td>16715.000000</td>\n",
       "      <td>8137.000000</td>\n",
       "    </tr>\n",
       "    <tr>\n",
       "      <th>mean</th>\n",
       "      <td>2006.484616</td>\n",
       "      <td>0.263377</td>\n",
       "      <td>0.145060</td>\n",
       "      <td>0.077617</td>\n",
       "      <td>0.047342</td>\n",
       "      <td>68.967679</td>\n",
       "    </tr>\n",
       "    <tr>\n",
       "      <th>std</th>\n",
       "      <td>5.877050</td>\n",
       "      <td>0.813604</td>\n",
       "      <td>0.503339</td>\n",
       "      <td>0.308853</td>\n",
       "      <td>0.186731</td>\n",
       "      <td>13.938165</td>\n",
       "    </tr>\n",
       "    <tr>\n",
       "      <th>min</th>\n",
       "      <td>1980.000000</td>\n",
       "      <td>0.000000</td>\n",
       "      <td>0.000000</td>\n",
       "      <td>0.000000</td>\n",
       "      <td>0.000000</td>\n",
       "      <td>13.000000</td>\n",
       "    </tr>\n",
       "    <tr>\n",
       "      <th>25%</th>\n",
       "      <td>2003.000000</td>\n",
       "      <td>0.000000</td>\n",
       "      <td>0.000000</td>\n",
       "      <td>0.000000</td>\n",
       "      <td>0.000000</td>\n",
       "      <td>60.000000</td>\n",
       "    </tr>\n",
       "    <tr>\n",
       "      <th>50%</th>\n",
       "      <td>2007.000000</td>\n",
       "      <td>0.080000</td>\n",
       "      <td>0.020000</td>\n",
       "      <td>0.000000</td>\n",
       "      <td>0.010000</td>\n",
       "      <td>71.000000</td>\n",
       "    </tr>\n",
       "    <tr>\n",
       "      <th>75%</th>\n",
       "      <td>2010.000000</td>\n",
       "      <td>0.240000</td>\n",
       "      <td>0.110000</td>\n",
       "      <td>0.040000</td>\n",
       "      <td>0.030000</td>\n",
       "      <td>79.000000</td>\n",
       "    </tr>\n",
       "    <tr>\n",
       "      <th>max</th>\n",
       "      <td>2016.000000</td>\n",
       "      <td>41.360000</td>\n",
       "      <td>28.960000</td>\n",
       "      <td>10.220000</td>\n",
       "      <td>10.570000</td>\n",
       "      <td>98.000000</td>\n",
       "    </tr>\n",
       "  </tbody>\n",
       "</table>\n",
       "</div>"
      ],
      "text/plain": [
       "       Year_of_Release      NA_sales      EU_sales      JP_sales  \\\n",
       "count     16446.000000  16715.000000  16715.000000  16715.000000   \n",
       "mean       2006.484616      0.263377      0.145060      0.077617   \n",
       "std           5.877050      0.813604      0.503339      0.308853   \n",
       "min        1980.000000      0.000000      0.000000      0.000000   \n",
       "25%        2003.000000      0.000000      0.000000      0.000000   \n",
       "50%        2007.000000      0.080000      0.020000      0.000000   \n",
       "75%        2010.000000      0.240000      0.110000      0.040000   \n",
       "max        2016.000000     41.360000     28.960000     10.220000   \n",
       "\n",
       "        Other_sales  Critic_Score  \n",
       "count  16715.000000   8137.000000  \n",
       "mean       0.047342     68.967679  \n",
       "std        0.186731     13.938165  \n",
       "min        0.000000     13.000000  \n",
       "25%        0.000000     60.000000  \n",
       "50%        0.010000     71.000000  \n",
       "75%        0.030000     79.000000  \n",
       "max       10.570000     98.000000  "
      ]
     },
     "execution_count": 3,
     "metadata": {},
     "output_type": "execute_result"
    }
   ],
   "source": [
    "#Obteniendo información general\n",
    "games.info()\n",
    "games.describe()"
   ]
  },
  {
   "cell_type": "markdown",
   "id": "a7494f9a",
   "metadata": {},
   "source": [
    "## Paso 2. Prepara los datos"
   ]
  },
  {
   "cell_type": "markdown",
   "id": "240321df",
   "metadata": {},
   "source": [
    "### Reemplaza los nombres de las columnas (ponlos en minúsculas)"
   ]
  },
  {
   "cell_type": "code",
   "execution_count": 4,
   "id": "5af533b9",
   "metadata": {
    "scrolled": true
   },
   "outputs": [
    {
     "data": {
      "text/html": [
       "<div>\n",
       "<style scoped>\n",
       "    .dataframe tbody tr th:only-of-type {\n",
       "        vertical-align: middle;\n",
       "    }\n",
       "\n",
       "    .dataframe tbody tr th {\n",
       "        vertical-align: top;\n",
       "    }\n",
       "\n",
       "    .dataframe thead th {\n",
       "        text-align: right;\n",
       "    }\n",
       "</style>\n",
       "<table border=\"1\" class=\"dataframe\">\n",
       "  <thead>\n",
       "    <tr style=\"text-align: right;\">\n",
       "      <th></th>\n",
       "      <th>name</th>\n",
       "      <th>platform</th>\n",
       "      <th>year_of_release</th>\n",
       "      <th>genre</th>\n",
       "      <th>na_sales</th>\n",
       "      <th>eu_sales</th>\n",
       "      <th>jp_sales</th>\n",
       "      <th>other_sales</th>\n",
       "      <th>critic_score</th>\n",
       "      <th>user_score</th>\n",
       "      <th>rating</th>\n",
       "    </tr>\n",
       "  </thead>\n",
       "  <tbody>\n",
       "    <tr>\n",
       "      <th>0</th>\n",
       "      <td>Wii Sports</td>\n",
       "      <td>Wii</td>\n",
       "      <td>2006.0</td>\n",
       "      <td>Sports</td>\n",
       "      <td>41.36</td>\n",
       "      <td>28.96</td>\n",
       "      <td>3.77</td>\n",
       "      <td>8.45</td>\n",
       "      <td>76.0</td>\n",
       "      <td>8</td>\n",
       "      <td>E</td>\n",
       "    </tr>\n",
       "    <tr>\n",
       "      <th>1</th>\n",
       "      <td>Super Mario Bros.</td>\n",
       "      <td>NES</td>\n",
       "      <td>1985.0</td>\n",
       "      <td>Platform</td>\n",
       "      <td>29.08</td>\n",
       "      <td>3.58</td>\n",
       "      <td>6.81</td>\n",
       "      <td>0.77</td>\n",
       "      <td>NaN</td>\n",
       "      <td>NaN</td>\n",
       "      <td>NaN</td>\n",
       "    </tr>\n",
       "    <tr>\n",
       "      <th>2</th>\n",
       "      <td>Mario Kart Wii</td>\n",
       "      <td>Wii</td>\n",
       "      <td>2008.0</td>\n",
       "      <td>Racing</td>\n",
       "      <td>15.68</td>\n",
       "      <td>12.76</td>\n",
       "      <td>3.79</td>\n",
       "      <td>3.29</td>\n",
       "      <td>82.0</td>\n",
       "      <td>8.3</td>\n",
       "      <td>E</td>\n",
       "    </tr>\n",
       "    <tr>\n",
       "      <th>3</th>\n",
       "      <td>Wii Sports Resort</td>\n",
       "      <td>Wii</td>\n",
       "      <td>2009.0</td>\n",
       "      <td>Sports</td>\n",
       "      <td>15.61</td>\n",
       "      <td>10.93</td>\n",
       "      <td>3.28</td>\n",
       "      <td>2.95</td>\n",
       "      <td>80.0</td>\n",
       "      <td>8</td>\n",
       "      <td>E</td>\n",
       "    </tr>\n",
       "    <tr>\n",
       "      <th>4</th>\n",
       "      <td>Pokemon Red/Pokemon Blue</td>\n",
       "      <td>GB</td>\n",
       "      <td>1996.0</td>\n",
       "      <td>Role-Playing</td>\n",
       "      <td>11.27</td>\n",
       "      <td>8.89</td>\n",
       "      <td>10.22</td>\n",
       "      <td>1.00</td>\n",
       "      <td>NaN</td>\n",
       "      <td>NaN</td>\n",
       "      <td>NaN</td>\n",
       "    </tr>\n",
       "  </tbody>\n",
       "</table>\n",
       "</div>"
      ],
      "text/plain": [
       "                       name platform  year_of_release         genre  na_sales  \\\n",
       "0                Wii Sports      Wii           2006.0        Sports     41.36   \n",
       "1         Super Mario Bros.      NES           1985.0      Platform     29.08   \n",
       "2            Mario Kart Wii      Wii           2008.0        Racing     15.68   \n",
       "3         Wii Sports Resort      Wii           2009.0        Sports     15.61   \n",
       "4  Pokemon Red/Pokemon Blue       GB           1996.0  Role-Playing     11.27   \n",
       "\n",
       "   eu_sales  jp_sales  other_sales  critic_score user_score rating  \n",
       "0     28.96      3.77         8.45          76.0          8      E  \n",
       "1      3.58      6.81         0.77           NaN        NaN    NaN  \n",
       "2     12.76      3.79         3.29          82.0        8.3      E  \n",
       "3     10.93      3.28         2.95          80.0          8      E  \n",
       "4      8.89     10.22         1.00           NaN        NaN    NaN  "
      ]
     },
     "execution_count": 4,
     "metadata": {},
     "output_type": "execute_result"
    }
   ],
   "source": [
    "#Cambiar nombres de columnas a minúsculas \n",
    "games.columns = games.columns.str.lower()\n",
    "games.head()"
   ]
  },
  {
   "cell_type": "markdown",
   "id": "55691d75",
   "metadata": {},
   "source": [
    "\n",
    "<div class=\"alert alert-block alert-success\">\n",
    "    <b>Comentarios del Revisor</b> <a class=\"tocSkip\"></a><br>\n",
    "¡Muy bien hecho! Reconozco y aprecio que estés utilizando las funciones info(), head() y describe() en tu análisis. Estas herramientas son esenciales en el campo de la ciencia de datos, ya que nos brindan información valiosa sobre la estructura, los primeros registros y un resumen estadístico de los datos.\n",
    "</div>"
   ]
  },
  {
   "cell_type": "markdown",
   "id": "ab46622b",
   "metadata": {},
   "source": [
    "### Tratando valores ausentes"
   ]
  },
  {
   "cell_type": "code",
   "execution_count": 5,
   "id": "f837b5a0",
   "metadata": {
    "scrolled": false
   },
   "outputs": [
    {
     "data": {
      "text/html": [
       "<div>\n",
       "<style scoped>\n",
       "    .dataframe tbody tr th:only-of-type {\n",
       "        vertical-align: middle;\n",
       "    }\n",
       "\n",
       "    .dataframe tbody tr th {\n",
       "        vertical-align: top;\n",
       "    }\n",
       "\n",
       "    .dataframe thead th {\n",
       "        text-align: right;\n",
       "    }\n",
       "</style>\n",
       "<table border=\"1\" class=\"dataframe\">\n",
       "  <thead>\n",
       "    <tr style=\"text-align: right;\">\n",
       "      <th></th>\n",
       "      <th>name</th>\n",
       "      <th>platform</th>\n",
       "      <th>year_of_release</th>\n",
       "      <th>genre</th>\n",
       "      <th>na_sales</th>\n",
       "      <th>eu_sales</th>\n",
       "      <th>jp_sales</th>\n",
       "      <th>other_sales</th>\n",
       "      <th>critic_score</th>\n",
       "      <th>user_score</th>\n",
       "      <th>rating</th>\n",
       "    </tr>\n",
       "  </thead>\n",
       "  <tbody>\n",
       "    <tr>\n",
       "      <th>659</th>\n",
       "      <td>NaN</td>\n",
       "      <td>GEN</td>\n",
       "      <td>1993.0</td>\n",
       "      <td>NaN</td>\n",
       "      <td>1.78</td>\n",
       "      <td>0.53</td>\n",
       "      <td>0.00</td>\n",
       "      <td>0.08</td>\n",
       "      <td>NaN</td>\n",
       "      <td>NaN</td>\n",
       "      <td>NaN</td>\n",
       "    </tr>\n",
       "    <tr>\n",
       "      <th>14244</th>\n",
       "      <td>NaN</td>\n",
       "      <td>GEN</td>\n",
       "      <td>1993.0</td>\n",
       "      <td>NaN</td>\n",
       "      <td>0.00</td>\n",
       "      <td>0.00</td>\n",
       "      <td>0.03</td>\n",
       "      <td>0.00</td>\n",
       "      <td>NaN</td>\n",
       "      <td>NaN</td>\n",
       "      <td>NaN</td>\n",
       "    </tr>\n",
       "  </tbody>\n",
       "</table>\n",
       "</div>"
      ],
      "text/plain": [
       "      name platform  year_of_release genre  na_sales  eu_sales  jp_sales  \\\n",
       "659    NaN      GEN           1993.0   NaN      1.78      0.53      0.00   \n",
       "14244  NaN      GEN           1993.0   NaN      0.00      0.00      0.03   \n",
       "\n",
       "       other_sales  critic_score user_score rating  \n",
       "659           0.08           NaN        NaN    NaN  \n",
       "14244         0.00           NaN        NaN    NaN  "
      ]
     },
     "metadata": {},
     "output_type": "display_data"
    }
   ],
   "source": [
    "#En la columna name hay 2 valores ausentes\n",
    "display(games[games['name'].isna()== True])\n",
    "#como no aportan ninguna información a la dataset se eliminarán\n",
    "games.drop([659, 14244], inplace = True)\n",
    "#reiniciamos el índice\n",
    "games.reset_index(inplace = True, drop = True)"
   ]
  },
  {
   "cell_type": "code",
   "execution_count": 6,
   "id": "fdd8939d",
   "metadata": {
    "scrolled": true
   },
   "outputs": [
    {
     "data": {
      "text/html": [
       "<div>\n",
       "<style scoped>\n",
       "    .dataframe tbody tr th:only-of-type {\n",
       "        vertical-align: middle;\n",
       "    }\n",
       "\n",
       "    .dataframe tbody tr th {\n",
       "        vertical-align: top;\n",
       "    }\n",
       "\n",
       "    .dataframe thead th {\n",
       "        text-align: right;\n",
       "    }\n",
       "</style>\n",
       "<table border=\"1\" class=\"dataframe\">\n",
       "  <thead>\n",
       "    <tr style=\"text-align: right;\">\n",
       "      <th></th>\n",
       "      <th>name</th>\n",
       "      <th>platform</th>\n",
       "      <th>year_of_release</th>\n",
       "      <th>genre</th>\n",
       "      <th>na_sales</th>\n",
       "      <th>eu_sales</th>\n",
       "      <th>jp_sales</th>\n",
       "      <th>other_sales</th>\n",
       "      <th>critic_score</th>\n",
       "      <th>user_score</th>\n",
       "      <th>rating</th>\n",
       "    </tr>\n",
       "  </thead>\n",
       "  <tbody>\n",
       "    <tr>\n",
       "      <th>183</th>\n",
       "      <td>Madden NFL 2004</td>\n",
       "      <td>PS2</td>\n",
       "      <td>NaN</td>\n",
       "      <td>Sports</td>\n",
       "      <td>4.26</td>\n",
       "      <td>0.26</td>\n",
       "      <td>0.01</td>\n",
       "      <td>0.71</td>\n",
       "      <td>94.0</td>\n",
       "      <td>8.5</td>\n",
       "      <td>E</td>\n",
       "    </tr>\n",
       "    <tr>\n",
       "      <th>377</th>\n",
       "      <td>FIFA Soccer 2004</td>\n",
       "      <td>PS2</td>\n",
       "      <td>NaN</td>\n",
       "      <td>Sports</td>\n",
       "      <td>0.59</td>\n",
       "      <td>2.36</td>\n",
       "      <td>0.04</td>\n",
       "      <td>0.51</td>\n",
       "      <td>84.0</td>\n",
       "      <td>6.4</td>\n",
       "      <td>E</td>\n",
       "    </tr>\n",
       "    <tr>\n",
       "      <th>456</th>\n",
       "      <td>LEGO Batman: The Videogame</td>\n",
       "      <td>Wii</td>\n",
       "      <td>NaN</td>\n",
       "      <td>Action</td>\n",
       "      <td>1.80</td>\n",
       "      <td>0.97</td>\n",
       "      <td>0.00</td>\n",
       "      <td>0.29</td>\n",
       "      <td>74.0</td>\n",
       "      <td>7.9</td>\n",
       "      <td>E10+</td>\n",
       "    </tr>\n",
       "    <tr>\n",
       "      <th>475</th>\n",
       "      <td>wwe Smackdown vs. Raw 2006</td>\n",
       "      <td>PS2</td>\n",
       "      <td>NaN</td>\n",
       "      <td>Fighting</td>\n",
       "      <td>1.57</td>\n",
       "      <td>1.02</td>\n",
       "      <td>0.00</td>\n",
       "      <td>0.41</td>\n",
       "      <td>NaN</td>\n",
       "      <td>NaN</td>\n",
       "      <td>NaN</td>\n",
       "    </tr>\n",
       "    <tr>\n",
       "      <th>609</th>\n",
       "      <td>Space Invaders</td>\n",
       "      <td>2600</td>\n",
       "      <td>NaN</td>\n",
       "      <td>Shooter</td>\n",
       "      <td>2.36</td>\n",
       "      <td>0.14</td>\n",
       "      <td>0.00</td>\n",
       "      <td>0.03</td>\n",
       "      <td>NaN</td>\n",
       "      <td>NaN</td>\n",
       "      <td>NaN</td>\n",
       "    </tr>\n",
       "    <tr>\n",
       "      <th>...</th>\n",
       "      <td>...</td>\n",
       "      <td>...</td>\n",
       "      <td>...</td>\n",
       "      <td>...</td>\n",
       "      <td>...</td>\n",
       "      <td>...</td>\n",
       "      <td>...</td>\n",
       "      <td>...</td>\n",
       "      <td>...</td>\n",
       "      <td>...</td>\n",
       "      <td>...</td>\n",
       "    </tr>\n",
       "    <tr>\n",
       "      <th>16371</th>\n",
       "      <td>PDC World Championship Darts 2008</td>\n",
       "      <td>PSP</td>\n",
       "      <td>NaN</td>\n",
       "      <td>Sports</td>\n",
       "      <td>0.01</td>\n",
       "      <td>0.00</td>\n",
       "      <td>0.00</td>\n",
       "      <td>0.00</td>\n",
       "      <td>43.0</td>\n",
       "      <td>tbd</td>\n",
       "      <td>E10+</td>\n",
       "    </tr>\n",
       "    <tr>\n",
       "      <th>16403</th>\n",
       "      <td>Freaky Flyers</td>\n",
       "      <td>GC</td>\n",
       "      <td>NaN</td>\n",
       "      <td>Racing</td>\n",
       "      <td>0.01</td>\n",
       "      <td>0.00</td>\n",
       "      <td>0.00</td>\n",
       "      <td>0.00</td>\n",
       "      <td>69.0</td>\n",
       "      <td>6.5</td>\n",
       "      <td>T</td>\n",
       "    </tr>\n",
       "    <tr>\n",
       "      <th>16446</th>\n",
       "      <td>Inversion</td>\n",
       "      <td>PC</td>\n",
       "      <td>NaN</td>\n",
       "      <td>Shooter</td>\n",
       "      <td>0.01</td>\n",
       "      <td>0.00</td>\n",
       "      <td>0.00</td>\n",
       "      <td>0.00</td>\n",
       "      <td>59.0</td>\n",
       "      <td>6.7</td>\n",
       "      <td>M</td>\n",
       "    </tr>\n",
       "    <tr>\n",
       "      <th>16456</th>\n",
       "      <td>Hakuouki: Shinsengumi Kitan</td>\n",
       "      <td>PS3</td>\n",
       "      <td>NaN</td>\n",
       "      <td>Adventure</td>\n",
       "      <td>0.01</td>\n",
       "      <td>0.00</td>\n",
       "      <td>0.00</td>\n",
       "      <td>0.00</td>\n",
       "      <td>NaN</td>\n",
       "      <td>NaN</td>\n",
       "      <td>NaN</td>\n",
       "    </tr>\n",
       "    <tr>\n",
       "      <th>16520</th>\n",
       "      <td>Virtua Quest</td>\n",
       "      <td>GC</td>\n",
       "      <td>NaN</td>\n",
       "      <td>Role-Playing</td>\n",
       "      <td>0.01</td>\n",
       "      <td>0.00</td>\n",
       "      <td>0.00</td>\n",
       "      <td>0.00</td>\n",
       "      <td>55.0</td>\n",
       "      <td>5.5</td>\n",
       "      <td>T</td>\n",
       "    </tr>\n",
       "  </tbody>\n",
       "</table>\n",
       "<p>269 rows × 11 columns</p>\n",
       "</div>"
      ],
      "text/plain": [
       "                                    name platform  year_of_release  \\\n",
       "183                      Madden NFL 2004      PS2              NaN   \n",
       "377                     FIFA Soccer 2004      PS2              NaN   \n",
       "456           LEGO Batman: The Videogame      Wii              NaN   \n",
       "475           wwe Smackdown vs. Raw 2006      PS2              NaN   \n",
       "609                       Space Invaders     2600              NaN   \n",
       "...                                  ...      ...              ...   \n",
       "16371  PDC World Championship Darts 2008      PSP              NaN   \n",
       "16403                      Freaky Flyers       GC              NaN   \n",
       "16446                          Inversion       PC              NaN   \n",
       "16456        Hakuouki: Shinsengumi Kitan      PS3              NaN   \n",
       "16520                       Virtua Quest       GC              NaN   \n",
       "\n",
       "              genre  na_sales  eu_sales  jp_sales  other_sales  critic_score  \\\n",
       "183          Sports      4.26      0.26      0.01         0.71          94.0   \n",
       "377          Sports      0.59      2.36      0.04         0.51          84.0   \n",
       "456          Action      1.80      0.97      0.00         0.29          74.0   \n",
       "475        Fighting      1.57      1.02      0.00         0.41           NaN   \n",
       "609         Shooter      2.36      0.14      0.00         0.03           NaN   \n",
       "...             ...       ...       ...       ...          ...           ...   \n",
       "16371        Sports      0.01      0.00      0.00         0.00          43.0   \n",
       "16403        Racing      0.01      0.00      0.00         0.00          69.0   \n",
       "16446       Shooter      0.01      0.00      0.00         0.00          59.0   \n",
       "16456     Adventure      0.01      0.00      0.00         0.00           NaN   \n",
       "16520  Role-Playing      0.01      0.00      0.00         0.00          55.0   \n",
       "\n",
       "      user_score rating  \n",
       "183          8.5      E  \n",
       "377          6.4      E  \n",
       "456          7.9   E10+  \n",
       "475          NaN    NaN  \n",
       "609          NaN    NaN  \n",
       "...          ...    ...  \n",
       "16371        tbd   E10+  \n",
       "16403        6.5      T  \n",
       "16446        6.7      M  \n",
       "16456        NaN    NaN  \n",
       "16520        5.5      T  \n",
       "\n",
       "[269 rows x 11 columns]"
      ]
     },
     "metadata": {},
     "output_type": "display_data"
    }
   ],
   "source": [
    "#Vemos que también en year_of_release hay valores ausentes\n",
    "display(games[games['year_of_release'].isna()])"
   ]
  },
  {
   "cell_type": "markdown",
   "id": "9c071db1",
   "metadata": {},
   "source": [
    "Voy a rellenar todos los valores ausentes en la columna year_of_release ya que quiero cambiar el tipo de dato float a int, y no lo puedo hacer si tengo valores NaN. Esto lo hago a continuación"
   ]
  },
  {
   "cell_type": "markdown",
   "id": "737b1611",
   "metadata": {},
   "source": [
    "<div class=\"alert alert-block alert-warning\">\n",
    "<b>Comentario del revisor</b><br>\n",
    "Has realizado un preprocesamiento de datos efectivo, asegurando que los datos estén en formatos adecuados para el análisis. Es notable también la identificación de los datos ausentos. \n",
    "</div>\n"
   ]
  },
  {
   "cell_type": "code",
   "execution_count": 7,
   "id": "c7c47158",
   "metadata": {},
   "outputs": [],
   "source": [
    "#Algunos juegos tienen el mismo nombre, y podemos suponer que se lanzaron el mismo año\n",
    "#Vamos a agrupar por name y sacar la mediana del año de lanzamiento\n",
    "serie_imputacion = games.groupby('name')['year_of_release'].median()\n",
    "#inputamos o rellenamos por el año de lanzamiento de los juegos que tienen el mismo nombre en diferentes plataformas\n",
    "games['year_of_release'] = games.set_index('name')['year_of_release'].fillna(serie_imputacion).reset_index(drop = True)"
   ]
  },
  {
   "cell_type": "code",
   "execution_count": 8,
   "id": "527168c6",
   "metadata": {},
   "outputs": [],
   "source": [
    "#Algunos juegos tienen en el nombre el año de lanzamiento, vamos a llenar los valores ausentes con ello\n",
    "games.loc[games['name'] == 'wwe Smackdown vs. Raw 2006', 'year_of_release'] = 2006\n",
    "games.loc[games['name'] == 'Madden NFL 2004', 'year_of_release'] = 2004\n",
    "games.loc[games['name'] == 'FIFA Soccer 2004', 'year_of_release'] = 2004\n",
    "games.loc[games['name'] == 'PDC World Championship Darts 2008', 'year_of_release'] = 2008\n",
    "games.loc[games['name'] == 'NFL GameDay 2003', 'year_of_release'] = 2023\n",
    "games.loc[games['name'] == 'All-Star Baseball 2005', 'year_of_release'] = 2005\n",
    "games.loc[games['name'] == 'Football Manager 2007', 'year_of_release'] = 2007\n",
    "games.loc[games['name'] == 'Tour de France 2011', 'year_of_release'] = 2011\n",
    "games.loc[games['name'] == 'Sega Rally 2006', 'year_of_release'] = 2006"
   ]
  },
  {
   "cell_type": "code",
   "execution_count": 9,
   "id": "b5cd6134",
   "metadata": {},
   "outputs": [],
   "source": [
    "#Algunos juegos no tienen el año en su nombre, hacemos una búsqueda en internet para asignar el año de lanzamiento\n",
    "#Esto me tomó varias horas de trabajo, sin embargo mi objetivo es cambiar el tipo de datos a int para tener una mejor visualizacion de los datos \n",
    "\n",
    "games.loc[games['name'] == 'Rock Band', 'year_of_release'] = 2008\n",
    "games.loc[games['name'] == \"Frogger's Adventures: Temple of the Frog\", 'year_of_release'] = 2001\n",
    "games.loc[games['name'] == 'Triple Play 99', 'year_of_release'] = 1998\n",
    "games.loc[games['name'] == 'Adventure', 'year_of_release'] = 1980\n",
    "games.loc[games['name'] == 'Combat', 'year_of_release'] = 1982\n",
    "games.loc[games['name'] == 'Legacy of Kain: Soul Reaver', 'year_of_release'] = 1999\n",
    "games.loc[games['name'] == 'Donkey Kong Land III', 'year_of_release'] = 1997\n",
    "games.loc[games['name'] == 'Air-Sea Battle', 'year_of_release'] = 1977\n",
    "games.loc[games['name'] == 'Suikoden III', 'year_of_release'] = 2002\n",
    "games.loc[games['name'] == 'Yakuza 4', 'year_of_release'] = 2010\n",
    "games.loc[games['name'] == 'WarioWare: Twisted!', 'year_of_release'] = 2009\n",
    "games.loc[games['name'] == 'Test Drive Unlimited 2', 'year_of_release'] = 2011\n",
    "games.loc[games['name'] == 'Monster Hunter 2', 'year_of_release'] = 2006\n",
    "games.loc[games['name'] == 'Advance Wars: Days of Ruin', 'year_of_release'] = 2008\n",
    "games.loc[games['name'] == 'Fishing Derby', 'year_of_release'] = 1980\n",
    "games.loc[games['name'] == 'Circus Atari', 'year_of_release'] = 1980\n",
    "games.loc[games['name'] == 'Silent Hill: Homecoming', 'year_of_release'] = 2007\n",
    "games.loc[games['name'] == \"Maze Craze: A Game of Cops 'n Robbers\", 'year_of_release'] = 1978\n",
    "games.loc[games['name'] == 'Karate', 'year_of_release'] = 1982\n",
    "games.loc[games['name'] == 'The Chronicles of Riddick: Escape from Butcher Bay', 'year_of_release'] = 2004\n",
    "games.loc[games['name'] == 'Super Breakout', 'year_of_release'] = 1978\n",
    "games.loc[games['name'] == \"Robert Ludlum's The Bourne Conspiracy\", 'year_of_release'] = 2008\n",
    "games.loc[games['name'] == 'NHL Slapshot', 'year_of_release'] = 2010\n",
    "games.loc[games['name'] == 'TERA', 'year_of_release'] = 2011\n",
    "games.loc[games['name'] == 'Harvest Moon: Save the Homeland', 'year_of_release'] = 2001\n",
    "games.loc[games['name'] == 'Hangman', 'year_of_release'] = 1978\n",
    "games.loc[games['name'] == \"Cubix Robots for Everyone: Clash 'n' Bash\", 'year_of_release'] = 2002\n",
    "games.loc[games['name'] == 'Dragon Ball Z: Budokai Tenkaichi 2 (JP sales)', 'year_of_release'] = 2006\n",
    "games.loc[games['name'] == 'Dragster', 'year_of_release'] = 1980\n",
    "games.loc[games['name'] == 'Slot Machine', 'year_of_release'] = 1979\n",
    "games.loc[games['name'] == 'The Dukes of Hazzard II: Daisy Dukes It Out', 'year_of_release'] = 2000\n",
    "games.loc[games['name'] == 'Haven: Call of the King', 'year_of_release'] = 2002\n",
    "games.loc[games['name'] == 'Unreal Championship 2: The Liandri Conflict', 'year_of_release'] = 2002\n",
    "games.loc[games['name'] == 'The Legend of Zelda: The Minish Cap(weekly JP sales)', 'year_of_release' ] = 2004\n",
    "games.loc[games['name'] == 'Indy 500', 'year_of_release'] = 1995\n",
    "games.loc[games['name'] == 'Disgaea 3: Absence of Detention', 'year_of_release'] = 2008\n",
    "games.loc[games['name'] == 'Flag Capture', 'year_of_release'] = 1978\n",
    "games.loc[games['name'] == 'Jet X20', 'year_of_release'] = 2002\n",
    "games.loc[games['name'] == 'Tribes: Aerial Assault', 'year_of_release'] = 2002\n",
    "games.loc[games['name'] == 'Big Beach Sports 2', 'year_of_release'] = 2010\n",
    "games.loc[games['name'] == 'Yu Yu Hakusho: Dark Tournament', 'year_of_release'] = 2004\n",
    "games.loc[games['name'] == 'Ghostbusters II', 'year_of_release'] = 1990\n",
    "games.loc[games['name'] == 'Breakaway IV', 'year_of_release'] = 1978\n",
    "games.loc[games['name'] == 'Valkyria Chronicles III: Unrecorded Chronicles', 'year_of_release'] = 2011\n",
    "games.loc[games['name'] == 'DanceDanceRevolution II', 'year_of_release'] = 2011\n",
    "games.loc[games['name'] == 'Famista 64', 'year_of_release'] = 1997\n",
    "games.loc[games['name'] == 'Pet Zombies', 'year_of_release'] = 2011\n",
    "games.loc[games['name'] == 'Backbreaker', 'year_of_release'] = 2009\n",
    "games.loc[games['name'] == 'Twisted Metal: Small Brawl', 'year_of_release'] = 2001\n",
    "games.loc[games['name'] == 'Otomedius Excellent', 'year_of_release'] = 2010\n",
    "games.loc[games['name'] == 'Trauma Team', 'year_of_release'] = 2011\n",
    "games.loc[games['name'] == 'Sword of the Samurai', 'year_of_release'] = 1989\n",
    "games.loc[games['name'] == 'Alone in the Dark: The New Nightmare', 'year_of_release'] = 2001\n",
    "games.loc[games['name'] == 'Jurassic Park: The Game', 'year_of_release'] = 2011\n",
    "games.loc[games['name'] == 'Home Run', 'year_of_release'] = 1978\n",
    "games.loc[games['name'] == 'Homeworld Remastered Collection', 'year_of_release'] = 2015\n",
    "games.loc[games['name'] == 'Agarest Senki: Re-appearance', 'year_of_release'] = 2010\n",
    "games.loc[games['name'] == 'Ferrari: The Race Experience', 'year_of_release'] = 2010\n",
    "games.loc[games['name'] == 'Hakuouki: Shinsengumi Kitan', 'year_of_release'] = 2008\n",
    "games.loc[games['name'] == 'Virtua Quest', 'year_of_release'] = 2004\n",
    "games.loc[games['name'] == \"Disney's Cinderella: Magical Dreams\", 'year_of_release'] = 2005\n",
    "games.loc[games['name'] == 'Move Fitness', 'year_of_release'] = 2013\n",
    "games.loc[games['name'] == 'Vegas Party', 'year_of_release'] = 2009\n",
    "games.loc[games['name'] == 'eJay Clubworld', 'year_of_release'] = 2003\n",
    "games.loc[games['name'] == 'Nintendo Puzzle Collection', 'year_of_release'] = 2003\n",
    "games.loc[games['name'] == 'Our House Party!', 'year_of_release'] = 2009\n",
    "games.loc[games['name'] == 'Charm Girls Club: My Fashion Mall', 'year_of_release'] = 2009\n",
    "games.loc[games['name'] == 'Super Robot Wars OG Saga: Masou Kishin II - Revelation of Evil God', 'year_of_release'] = 2012\n",
    "games.loc[games['name'] == 'Saru! Get You! Million Monkeys', 'year_of_release'] = 2006\n",
    "games.loc[games['name'] == 'The Daring Game for Girls', 'year_of_release'] = 2010\n",
    "games.loc[games['name'] == 'GiFTPiA', 'year_of_release'] = 2003\n",
    "games.loc[games['name'] == 'Atsumare! Power Pro Kun no DS Koushien', 'year_of_release'] = 2006\n",
    "games.loc[games['name'] == 'My Healthy Cooking Coach', 'year_of_release'] = 2009\n",
    "games.loc[games['name'] == 'Luminous Arc 2 (JP sales)', 'year_of_release'] = 2008\n",
    "games.loc[games['name'] == 'Egg Monster Hero', 'year_of_release'] = 2005\n",
    "games.loc[games['name'] == 'Demon Chaos', 'year_of_release'] = 2005\n",
    "games.loc[games['name'] == 'Action Man-Operation Extreme', 'year_of_release'] = 1999\n",
    "games.loc[games['name'] == 'Super Puzzle Fighter II', 'year_of_release'] = 1996\n",
    "games.loc[games['name'] == 'Charm Girls Club: My Fashion Show', 'year_of_release'] = 2009\n",
    "games.loc[games['name'] == 'Face Racers: Photo Finish', 'year_of_release'] = 2011\n",
    "games.loc[games['name'] == 'Zero: Tsukihami no Kamen', 'year_of_release'] = 2008\n",
    "games.loc[games['name'] == 'The Hidden', 'year_of_release'] = 2007\n",
    "games.loc[games['name'] == 'Mega Man Battle Network: Operation Shooting Star', 'year_of_release'] = 2009\n",
    "games.loc[games['name'] == 'Port Royale 3', 'year_of_release'] = 2012\n",
    "games.loc[games['name'] == 'Dream Trigger 3D', 'year_of_release'] = 2011\n",
    "games.loc[games['name'] == 'Yoostar on MTV', 'year_of_release'] = 2011\n",
    "games.loc[games['name'] == 'Tornado', 'year_of_release'] = 2008\n",
    "games.loc[games['name'] == \"McFarlane's Evil Prophecy\", 'year_of_release'] = 2004\n",
    "games.loc[games['name'] == 'Drake of the 99 Dragons', 'year_of_release'] = 2003\n",
    "games.loc[games['name'] == 'Build-A-Bear Workshop: Friendship Valley', 'year_of_release'] = 2010\n",
    "games.loc[games['name'] == 'Alex Rider: Stormbreaker', 'year_of_release'] = 2006\n",
    "games.loc[games['name'] == 'Chou Soujuu Mecha MG', 'year_of_release'] = 2006\n",
    "games.loc[games['name'] == 'Prinny: Can I Really Be The Hero? (US sales)', 'year_of_release'] = 2008\n",
    "games.loc[games['name'] == 'Combat Elite: WWII Paratroopers', 'year_of_release'] = 2005\n",
    "games.loc[games['name'] == \"Flip's Twisted World\", 'year_of_release'] = 2010\n",
    "games.loc[games['name'] == 'Mobile Ops: The One Year War', 'year_of_release'] = 2008\n",
    "games.loc[games['name'] == \"Tom Clancy's Rainbow Six: Critical Hour\", 'year_of_release'] = 2006\n",
    "games.loc[games['name'] == 'Jewel Link Chronicles: Mountains of Madness', 'year_of_release'] = 2012\n",
    "games.loc[games['name'] == 'Mountain Bike Adrenaline', 'year_of_release'] = 2007\n",
    "games.loc[games['name'] == 'Drill Dozer', 'year_of_release'] = 2005\n",
    "games.loc[games['name'] == 'Reader Rabbit 2nd Grade', 'year_of_release'] = 2010\n",
    "games.loc[games['name'] == 'Clockwork Empires', 'year_of_release'] = 2014\n",
    "games.loc[games['name'] == 'B.L.U.E.: Legend of Water', 'year_of_release'] = 1998\n",
    "games.loc[games['name'] == 'Half-Minute Hero 2', 'year_of_release'] = 2011\n",
    "games.loc[games['name'] == 'Housekeeping', 'year_of_release'] = 2006\n",
    "games.loc[games['name'] == 'Sabre Wulf', 'year_of_release'] = 1984\n",
    "games.loc[games['name'] == 'Swords', 'year_of_release'] = 2010\n",
    "games.loc[games['name'] == 'Beyond the Labyrinth', 'year_of_release'] = 2012\n",
    "games.loc[games['name'] == 'Bikkuriman Daijiten', 'year_of_release'] = 2007\n",
    "games.loc[games['name'] == 'Samurai Spirits: Tenkaichi Kenkakuden', 'year_of_release'] = 2005\n",
    "games.loc[games['name'] == 'The King of Fighters: Maximum Impact - Maniax', 'year_of_release'] = 2004\n",
    "games.loc[games['name'] == 'Payout Poker & Casino', 'year_of_release'] = 2006\n",
    "games.loc[games['name'] == 'Wii de Asobu: Metroid Prime', 'year_of_release'] = 2002\n",
    "games.loc[games['name'] == 'Legacy of Ys: Books I & II', 'year_of_release'] = 2009\n",
    "games.loc[games['name'] == \"Yu-Gi-Oh! 5D's Wheelie Breakers (JP sales)\", 'year_of_release'] = 2009\n",
    "games.loc[games['name'] == \"Shonen Jump's Yu-Gi-Oh! GX Card Almanac\", 'year_of_release'] = 2007\n",
    "games.loc[games['name'] == 'Steal Princess', 'year_of_release'] = 2008\n",
    "games.loc[games['name'] == 'Jet Impulse', 'year_of_release'] = 2007\n",
    "games.loc[games['name'] == 'Dream Dancer', 'year_of_release'] = 2009\n",
    "games.loc[games['name'] == 'Shorts', 'year_of_release'] = 2009\n",
    "games.loc[games['name'] == 'Fullmetal Alchemist: Brotherhood', 'year_of_release'] = 2010\n",
    "games.loc[games['name'] == 'Super Duper Sumos', 'year_of_release'] = 2003\n",
    "games.loc[games['name'] == 'Combat Wings: The Great Battles of WWII', 'year_of_release'] = 2012\n",
    "games.loc[games['name'] == 'Tube Slider', 'year_of_release'] = 2003\n",
    "games.loc[games['name'] == 'Saint', 'year_of_release'] = 2009\n",
    "games.loc[games['name'] == 'Writing and Speaking Beautiful Japanese DS', 'year_of_release'] = 2007\n",
    "games.loc[games['name'] == 'Umineko no Naku Koro ni San: Shinjitsu to Gensou no Yasoukyoku', 'year_of_release'] = 2011\n",
    "#algunos nombres eran demasiado largos y tuve que buscar una manera de mostrar el nombre completo:\n",
    "#games[games['name'] == 'Umineko no Naku Koro ni San: Shinjitsu to Gensou no Yasoukyoku']\n",
    "#games.loc[15020, 'name']"
   ]
  },
  {
   "cell_type": "markdown",
   "id": "8d3ea192",
   "metadata": {},
   "source": [
    "<div class=\"alert alert-block alert-success\">\n",
    "<b>Comentario del revisor</b> <a class=“tocSkip”></a>\n",
    "Realizaste un esfuerzo significativo al buscar manualmente el año de lanzamiento para los juegos que faltaban esta información. Si bien esto demuestra dedicación, existen métodos más eficientes que podrías considerar para optimizar tu tiempo y recursos. Por ejemplo, podrías automatizar la búsqueda de datos cruzados utilizando APIs de bases de datos de videojuegos como IGDB (Internet Game Database) https://www.igdb.com  o MobyGames, que te permiten obtener información detallada sobre juegos específicos, incluidos sus años de lanzamiento. Esto no solo te ahorra tiempo sino que también puede incrementar la precisión de tus datos al depender de fuentes estructuradas y actualizadas. Además, considera utilizar funciones vectorizadas de pandas para operaciones de reemplazo en lugar de hacerlo manualmente para cada entrada; esto hará que tu código sea más limpio y eficiente.\n",
    "</div>"
   ]
  },
  {
   "cell_type": "markdown",
   "id": "43b202c0",
   "metadata": {},
   "source": [
    "### Convirtiendo tipo de datos"
   ]
  },
  {
   "cell_type": "code",
   "execution_count": 10,
   "id": "84b04a48",
   "metadata": {
    "scrolled": true
   },
   "outputs": [],
   "source": [
    "#Ahora convertimos year_of_release en int\n",
    "games['year_of_release'] = games['year_of_release'].astype(int)"
   ]
  },
  {
   "cell_type": "markdown",
   "id": "37b85b15",
   "metadata": {},
   "source": [
    "La columna de user_score es tipo object, lo ideal sería tenerla como float. Sin embargo, tenemos valores tbd que no nos dejan convertir el tipo de datos. Para ello vamos a utilizar el método to_numeric y añadir el argumento errors = coerce para que pase los valores de string a NaN."
   ]
  },
  {
   "cell_type": "code",
   "execution_count": 11,
   "id": "c67a233d",
   "metadata": {},
   "outputs": [
    {
     "name": "stdout",
     "output_type": "stream",
     "text": [
      "<class 'pandas.core.frame.DataFrame'>\n",
      "RangeIndex: 16713 entries, 0 to 16712\n",
      "Data columns (total 11 columns):\n",
      " #   Column           Non-Null Count  Dtype  \n",
      "---  ------           --------------  -----  \n",
      " 0   name             16713 non-null  object \n",
      " 1   platform         16713 non-null  object \n",
      " 2   year_of_release  16713 non-null  int32  \n",
      " 3   genre            16713 non-null  object \n",
      " 4   na_sales         16713 non-null  float64\n",
      " 5   eu_sales         16713 non-null  float64\n",
      " 6   jp_sales         16713 non-null  float64\n",
      " 7   other_sales      16713 non-null  float64\n",
      " 8   critic_score     8137 non-null   float64\n",
      " 9   user_score       7590 non-null   float64\n",
      " 10  rating           9949 non-null   object \n",
      "dtypes: float64(6), int32(1), object(4)\n",
      "memory usage: 1.3+ MB\n"
     ]
    }
   ],
   "source": [
    "games['user_score'] = pd.to_numeric(games['user_score'], errors='coerce')\n",
    "games.info()"
   ]
  },
  {
   "cell_type": "markdown",
   "id": "50ef1422",
   "metadata": {},
   "source": [
    "### Calculando ventas totales"
   ]
  },
  {
   "cell_type": "code",
   "execution_count": 12,
   "id": "f207da06",
   "metadata": {},
   "outputs": [
    {
     "data": {
      "text/html": [
       "<div>\n",
       "<style scoped>\n",
       "    .dataframe tbody tr th:only-of-type {\n",
       "        vertical-align: middle;\n",
       "    }\n",
       "\n",
       "    .dataframe tbody tr th {\n",
       "        vertical-align: top;\n",
       "    }\n",
       "\n",
       "    .dataframe thead th {\n",
       "        text-align: right;\n",
       "    }\n",
       "</style>\n",
       "<table border=\"1\" class=\"dataframe\">\n",
       "  <thead>\n",
       "    <tr style=\"text-align: right;\">\n",
       "      <th></th>\n",
       "      <th>name</th>\n",
       "      <th>platform</th>\n",
       "      <th>year_of_release</th>\n",
       "      <th>genre</th>\n",
       "      <th>na_sales</th>\n",
       "      <th>eu_sales</th>\n",
       "      <th>jp_sales</th>\n",
       "      <th>other_sales</th>\n",
       "      <th>critic_score</th>\n",
       "      <th>user_score</th>\n",
       "      <th>rating</th>\n",
       "      <th>total_sales</th>\n",
       "    </tr>\n",
       "  </thead>\n",
       "  <tbody>\n",
       "    <tr>\n",
       "      <th>0</th>\n",
       "      <td>Wii Sports</td>\n",
       "      <td>Wii</td>\n",
       "      <td>2006</td>\n",
       "      <td>Sports</td>\n",
       "      <td>41.36</td>\n",
       "      <td>28.96</td>\n",
       "      <td>3.77</td>\n",
       "      <td>8.45</td>\n",
       "      <td>76.0</td>\n",
       "      <td>8.0</td>\n",
       "      <td>E</td>\n",
       "      <td>82.54</td>\n",
       "    </tr>\n",
       "    <tr>\n",
       "      <th>1</th>\n",
       "      <td>Super Mario Bros.</td>\n",
       "      <td>NES</td>\n",
       "      <td>1985</td>\n",
       "      <td>Platform</td>\n",
       "      <td>29.08</td>\n",
       "      <td>3.58</td>\n",
       "      <td>6.81</td>\n",
       "      <td>0.77</td>\n",
       "      <td>NaN</td>\n",
       "      <td>NaN</td>\n",
       "      <td>NaN</td>\n",
       "      <td>40.24</td>\n",
       "    </tr>\n",
       "    <tr>\n",
       "      <th>2</th>\n",
       "      <td>Mario Kart Wii</td>\n",
       "      <td>Wii</td>\n",
       "      <td>2008</td>\n",
       "      <td>Racing</td>\n",
       "      <td>15.68</td>\n",
       "      <td>12.76</td>\n",
       "      <td>3.79</td>\n",
       "      <td>3.29</td>\n",
       "      <td>82.0</td>\n",
       "      <td>8.3</td>\n",
       "      <td>E</td>\n",
       "      <td>35.52</td>\n",
       "    </tr>\n",
       "    <tr>\n",
       "      <th>3</th>\n",
       "      <td>Wii Sports Resort</td>\n",
       "      <td>Wii</td>\n",
       "      <td>2009</td>\n",
       "      <td>Sports</td>\n",
       "      <td>15.61</td>\n",
       "      <td>10.93</td>\n",
       "      <td>3.28</td>\n",
       "      <td>2.95</td>\n",
       "      <td>80.0</td>\n",
       "      <td>8.0</td>\n",
       "      <td>E</td>\n",
       "      <td>32.77</td>\n",
       "    </tr>\n",
       "    <tr>\n",
       "      <th>4</th>\n",
       "      <td>Pokemon Red/Pokemon Blue</td>\n",
       "      <td>GB</td>\n",
       "      <td>1996</td>\n",
       "      <td>Role-Playing</td>\n",
       "      <td>11.27</td>\n",
       "      <td>8.89</td>\n",
       "      <td>10.22</td>\n",
       "      <td>1.00</td>\n",
       "      <td>NaN</td>\n",
       "      <td>NaN</td>\n",
       "      <td>NaN</td>\n",
       "      <td>31.38</td>\n",
       "    </tr>\n",
       "    <tr>\n",
       "      <th>...</th>\n",
       "      <td>...</td>\n",
       "      <td>...</td>\n",
       "      <td>...</td>\n",
       "      <td>...</td>\n",
       "      <td>...</td>\n",
       "      <td>...</td>\n",
       "      <td>...</td>\n",
       "      <td>...</td>\n",
       "      <td>...</td>\n",
       "      <td>...</td>\n",
       "      <td>...</td>\n",
       "      <td>...</td>\n",
       "    </tr>\n",
       "    <tr>\n",
       "      <th>16708</th>\n",
       "      <td>Samurai Warriors: Sanada Maru</td>\n",
       "      <td>PS3</td>\n",
       "      <td>2016</td>\n",
       "      <td>Action</td>\n",
       "      <td>0.00</td>\n",
       "      <td>0.00</td>\n",
       "      <td>0.01</td>\n",
       "      <td>0.00</td>\n",
       "      <td>NaN</td>\n",
       "      <td>NaN</td>\n",
       "      <td>NaN</td>\n",
       "      <td>0.01</td>\n",
       "    </tr>\n",
       "    <tr>\n",
       "      <th>16709</th>\n",
       "      <td>LMA Manager 2007</td>\n",
       "      <td>X360</td>\n",
       "      <td>2006</td>\n",
       "      <td>Sports</td>\n",
       "      <td>0.00</td>\n",
       "      <td>0.01</td>\n",
       "      <td>0.00</td>\n",
       "      <td>0.00</td>\n",
       "      <td>NaN</td>\n",
       "      <td>NaN</td>\n",
       "      <td>NaN</td>\n",
       "      <td>0.01</td>\n",
       "    </tr>\n",
       "    <tr>\n",
       "      <th>16710</th>\n",
       "      <td>Haitaka no Psychedelica</td>\n",
       "      <td>PSV</td>\n",
       "      <td>2016</td>\n",
       "      <td>Adventure</td>\n",
       "      <td>0.00</td>\n",
       "      <td>0.00</td>\n",
       "      <td>0.01</td>\n",
       "      <td>0.00</td>\n",
       "      <td>NaN</td>\n",
       "      <td>NaN</td>\n",
       "      <td>NaN</td>\n",
       "      <td>0.01</td>\n",
       "    </tr>\n",
       "    <tr>\n",
       "      <th>16711</th>\n",
       "      <td>Spirits &amp; Spells</td>\n",
       "      <td>GBA</td>\n",
       "      <td>2003</td>\n",
       "      <td>Platform</td>\n",
       "      <td>0.01</td>\n",
       "      <td>0.00</td>\n",
       "      <td>0.00</td>\n",
       "      <td>0.00</td>\n",
       "      <td>NaN</td>\n",
       "      <td>NaN</td>\n",
       "      <td>NaN</td>\n",
       "      <td>0.01</td>\n",
       "    </tr>\n",
       "    <tr>\n",
       "      <th>16712</th>\n",
       "      <td>Winning Post 8 2016</td>\n",
       "      <td>PSV</td>\n",
       "      <td>2016</td>\n",
       "      <td>Simulation</td>\n",
       "      <td>0.00</td>\n",
       "      <td>0.00</td>\n",
       "      <td>0.01</td>\n",
       "      <td>0.00</td>\n",
       "      <td>NaN</td>\n",
       "      <td>NaN</td>\n",
       "      <td>NaN</td>\n",
       "      <td>0.01</td>\n",
       "    </tr>\n",
       "  </tbody>\n",
       "</table>\n",
       "<p>16713 rows × 12 columns</p>\n",
       "</div>"
      ],
      "text/plain": [
       "                                name platform  year_of_release         genre  \\\n",
       "0                         Wii Sports      Wii             2006        Sports   \n",
       "1                  Super Mario Bros.      NES             1985      Platform   \n",
       "2                     Mario Kart Wii      Wii             2008        Racing   \n",
       "3                  Wii Sports Resort      Wii             2009        Sports   \n",
       "4           Pokemon Red/Pokemon Blue       GB             1996  Role-Playing   \n",
       "...                              ...      ...              ...           ...   \n",
       "16708  Samurai Warriors: Sanada Maru      PS3             2016        Action   \n",
       "16709               LMA Manager 2007     X360             2006        Sports   \n",
       "16710        Haitaka no Psychedelica      PSV             2016     Adventure   \n",
       "16711               Spirits & Spells      GBA             2003      Platform   \n",
       "16712            Winning Post 8 2016      PSV             2016    Simulation   \n",
       "\n",
       "       na_sales  eu_sales  jp_sales  other_sales  critic_score  user_score  \\\n",
       "0         41.36     28.96      3.77         8.45          76.0         8.0   \n",
       "1         29.08      3.58      6.81         0.77           NaN         NaN   \n",
       "2         15.68     12.76      3.79         3.29          82.0         8.3   \n",
       "3         15.61     10.93      3.28         2.95          80.0         8.0   \n",
       "4         11.27      8.89     10.22         1.00           NaN         NaN   \n",
       "...         ...       ...       ...          ...           ...         ...   \n",
       "16708      0.00      0.00      0.01         0.00           NaN         NaN   \n",
       "16709      0.00      0.01      0.00         0.00           NaN         NaN   \n",
       "16710      0.00      0.00      0.01         0.00           NaN         NaN   \n",
       "16711      0.01      0.00      0.00         0.00           NaN         NaN   \n",
       "16712      0.00      0.00      0.01         0.00           NaN         NaN   \n",
       "\n",
       "      rating  total_sales  \n",
       "0          E        82.54  \n",
       "1        NaN        40.24  \n",
       "2          E        35.52  \n",
       "3          E        32.77  \n",
       "4        NaN        31.38  \n",
       "...      ...          ...  \n",
       "16708    NaN         0.01  \n",
       "16709    NaN         0.01  \n",
       "16710    NaN         0.01  \n",
       "16711    NaN         0.01  \n",
       "16712    NaN         0.01  \n",
       "\n",
       "[16713 rows x 12 columns]"
      ]
     },
     "metadata": {},
     "output_type": "display_data"
    }
   ],
   "source": [
    "#games.columns\n",
    "games['total_sales'] = games['na_sales'] + games['eu_sales'] + games['jp_sales'] + games['other_sales']\n",
    "display(games)"
   ]
  },
  {
   "cell_type": "markdown",
   "id": "18e8fb3c",
   "metadata": {},
   "source": [
    "## Paso 3. Analiza los datos"
   ]
  },
  {
   "cell_type": "markdown",
   "id": "a7a3bdbb",
   "metadata": {},
   "source": [
    "#### Mira cuántos juegos fueron lanzados en diferentes años. "
   ]
  },
  {
   "cell_type": "code",
   "execution_count": 13,
   "id": "f3e91e04",
   "metadata": {},
   "outputs": [
    {
     "data": {
      "text/plain": [
       "<Axes: title={'center': 'Cantidad de videojuegos lanzados a través de los años'}, xlabel='Años', ylabel='Videojuegos'>"
      ]
     },
     "execution_count": 13,
     "metadata": {},
     "output_type": "execute_result"
    },
    {
     "data": {
      "image/png": "[encoded data removed]",
      "text/plain": [
       "<Figure size 640x480 with 1 Axes>"
      ]
     },
     "metadata": {},
     "output_type": "display_data"
    }
   ],
   "source": [
    "games_per_year = games.groupby('year_of_release')['name'].count()\n",
    "#display(games_per_year)\n",
    "games_per_year.plot( \n",
    "    title = 'Cantidad de videojuegos lanzados a través de los años',\n",
    "    xlabel = 'Años',\n",
    "    ylabel = 'Videojuegos')"
   ]
  },
  {
   "cell_type": "markdown",
   "id": "8a7182e4",
   "metadata": {},
   "source": [
    "#### ¿Son significativos los datos de cada período?\n",
    "Sí son significativos ya que observamos que en los 80's la cantidad de videojuegos que se lanzaron fue de 213, para los 90's esta cantidad aumentó casi 8.4 veces más (1780), y ya para los 2000's aumentó 5.2 veces más (9353). Esperaríamos que aumentara de los 2010 a 2019 sin embargo nos faltan datos de los años 2017 en adelante. "
   ]
  },
  {
   "cell_type": "markdown",
   "id": "e71d8197",
   "metadata": {},
   "source": [
    "#### Observa cómo varían las ventas de una plataforma a otra"
   ]
  },
  {
   "cell_type": "code",
   "execution_count": 14,
   "id": "6a464b8e",
   "metadata": {},
   "outputs": [
    {
     "data": {
      "text/plain": [
       "platform\n",
       "2600    0.729173\n",
       "3DO     0.033333\n",
       "3DS     0.498077\n",
       "DC      0.306731\n",
       "DS      0.374765\n",
       "GB      2.606735\n",
       "GBA     0.386679\n",
       "GC      0.357788\n",
       "GEN     1.050000\n",
       "GG      0.040000\n",
       "N64     0.685517\n",
       "NES     2.561735\n",
       "NG      0.120000\n",
       "PC      0.266448\n",
       "PCFX    0.030000\n",
       "PS      0.610576\n",
       "PS2     0.581106\n",
       "PS3     0.705973\n",
       "PS4     0.801378\n",
       "PSP     0.243218\n",
       "PSV     0.125744\n",
       "SAT     0.194162\n",
       "SCD     0.310000\n",
       "SNES    0.836987\n",
       "TG16    0.080000\n",
       "WS      0.236667\n",
       "Wii     0.687508\n",
       "WiiU    0.559116\n",
       "X360    0.769746\n",
       "XB      0.312791\n",
       "XOne    0.645020\n",
       "Name: total_sales, dtype: float64"
      ]
     },
     "metadata": {},
     "output_type": "display_data"
    }
   ],
   "source": [
    "sales_per_platform = games.groupby('platform')['total_sales'].mean()\n",
    "display(sales_per_platform)"
   ]
  },
  {
   "cell_type": "markdown",
   "id": "730db33e",
   "metadata": {},
   "source": [
    "#### Elige las plataformas con las mayores ventas totales \n",
    "Son 31 plataformas en total, elijo quedarme con 5 ya que será la muestra representativa de las plataformas con mayores ventas totales, para ello hago el siguiente filtrado:"
   ]
  },
  {
   "cell_type": "code",
   "execution_count": 15,
   "id": "01f02061",
   "metadata": {},
   "outputs": [
    {
     "data": {
      "text/plain": [
       "platform\n",
       "GB      2.606735\n",
       "GEN     1.050000\n",
       "NES     2.561735\n",
       "PS4     0.801378\n",
       "SNES    0.836987\n",
       "Name: total_sales, dtype: float64"
      ]
     },
     "execution_count": 15,
     "metadata": {},
     "output_type": "execute_result"
    }
   ],
   "source": [
    "sales_per_platform[sales_per_platform >0.79]"
   ]
  },
  {
   "cell_type": "markdown",
   "id": "59522544",
   "metadata": {},
   "source": [
    "Me quedo con las plataformas GB, GEN, NES, PS4 y SNES"
   ]
  },
  {
   "cell_type": "markdown",
   "id": "fb96f2a1",
   "metadata": {},
   "source": [
    "#### Construye una distribución basada en los datos de cada año"
   ]
  },
  {
   "cell_type": "code",
   "execution_count": 16,
   "id": "bf41fb46",
   "metadata": {},
   "outputs": [
    {
     "data": {
      "text/html": [
       "<div>\n",
       "<style scoped>\n",
       "    .dataframe tbody tr th:only-of-type {\n",
       "        vertical-align: middle;\n",
       "    }\n",
       "\n",
       "    .dataframe tbody tr th {\n",
       "        vertical-align: top;\n",
       "    }\n",
       "\n",
       "    .dataframe thead th {\n",
       "        text-align: right;\n",
       "    }\n",
       "</style>\n",
       "<table border=\"1\" class=\"dataframe\">\n",
       "  <thead>\n",
       "    <tr style=\"text-align: right;\">\n",
       "      <th></th>\n",
       "      <th>name</th>\n",
       "      <th>platform</th>\n",
       "      <th>year_of_release</th>\n",
       "      <th>genre</th>\n",
       "      <th>na_sales</th>\n",
       "      <th>eu_sales</th>\n",
       "      <th>jp_sales</th>\n",
       "      <th>other_sales</th>\n",
       "      <th>critic_score</th>\n",
       "      <th>user_score</th>\n",
       "      <th>rating</th>\n",
       "      <th>total_sales</th>\n",
       "    </tr>\n",
       "  </thead>\n",
       "  <tbody>\n",
       "    <tr>\n",
       "      <th>1</th>\n",
       "      <td>Super Mario Bros.</td>\n",
       "      <td>NES</td>\n",
       "      <td>1985</td>\n",
       "      <td>Platform</td>\n",
       "      <td>29.08</td>\n",
       "      <td>3.58</td>\n",
       "      <td>6.81</td>\n",
       "      <td>0.77</td>\n",
       "      <td>NaN</td>\n",
       "      <td>NaN</td>\n",
       "      <td>NaN</td>\n",
       "      <td>40.24</td>\n",
       "    </tr>\n",
       "    <tr>\n",
       "      <th>4</th>\n",
       "      <td>Pokemon Red/Pokemon Blue</td>\n",
       "      <td>GB</td>\n",
       "      <td>1996</td>\n",
       "      <td>Role-Playing</td>\n",
       "      <td>11.27</td>\n",
       "      <td>8.89</td>\n",
       "      <td>10.22</td>\n",
       "      <td>1.00</td>\n",
       "      <td>NaN</td>\n",
       "      <td>NaN</td>\n",
       "      <td>NaN</td>\n",
       "      <td>31.38</td>\n",
       "    </tr>\n",
       "    <tr>\n",
       "      <th>5</th>\n",
       "      <td>Tetris</td>\n",
       "      <td>GB</td>\n",
       "      <td>1989</td>\n",
       "      <td>Puzzle</td>\n",
       "      <td>23.20</td>\n",
       "      <td>2.26</td>\n",
       "      <td>4.22</td>\n",
       "      <td>0.58</td>\n",
       "      <td>NaN</td>\n",
       "      <td>NaN</td>\n",
       "      <td>NaN</td>\n",
       "      <td>30.26</td>\n",
       "    </tr>\n",
       "    <tr>\n",
       "      <th>9</th>\n",
       "      <td>Duck Hunt</td>\n",
       "      <td>NES</td>\n",
       "      <td>1984</td>\n",
       "      <td>Shooter</td>\n",
       "      <td>26.93</td>\n",
       "      <td>0.63</td>\n",
       "      <td>0.28</td>\n",
       "      <td>0.47</td>\n",
       "      <td>NaN</td>\n",
       "      <td>NaN</td>\n",
       "      <td>NaN</td>\n",
       "      <td>28.31</td>\n",
       "    </tr>\n",
       "    <tr>\n",
       "      <th>12</th>\n",
       "      <td>Pokemon Gold/Pokemon Silver</td>\n",
       "      <td>GB</td>\n",
       "      <td>1999</td>\n",
       "      <td>Role-Playing</td>\n",
       "      <td>9.00</td>\n",
       "      <td>6.18</td>\n",
       "      <td>7.20</td>\n",
       "      <td>0.71</td>\n",
       "      <td>NaN</td>\n",
       "      <td>NaN</td>\n",
       "      <td>NaN</td>\n",
       "      <td>23.09</td>\n",
       "    </tr>\n",
       "    <tr>\n",
       "      <th>...</th>\n",
       "      <td>...</td>\n",
       "      <td>...</td>\n",
       "      <td>...</td>\n",
       "      <td>...</td>\n",
       "      <td>...</td>\n",
       "      <td>...</td>\n",
       "      <td>...</td>\n",
       "      <td>...</td>\n",
       "      <td>...</td>\n",
       "      <td>...</td>\n",
       "      <td>...</td>\n",
       "      <td>...</td>\n",
       "    </tr>\n",
       "    <tr>\n",
       "      <th>16498</th>\n",
       "      <td>Root Letter</td>\n",
       "      <td>PS4</td>\n",
       "      <td>2016</td>\n",
       "      <td>Adventure</td>\n",
       "      <td>0.00</td>\n",
       "      <td>0.00</td>\n",
       "      <td>0.01</td>\n",
       "      <td>0.00</td>\n",
       "      <td>69.0</td>\n",
       "      <td>7.5</td>\n",
       "      <td>NaN</td>\n",
       "      <td>0.01</td>\n",
       "    </tr>\n",
       "    <tr>\n",
       "      <th>16501</th>\n",
       "      <td>Shin Hayarigami 2</td>\n",
       "      <td>PS4</td>\n",
       "      <td>2016</td>\n",
       "      <td>Adventure</td>\n",
       "      <td>0.00</td>\n",
       "      <td>0.00</td>\n",
       "      <td>0.01</td>\n",
       "      <td>0.00</td>\n",
       "      <td>NaN</td>\n",
       "      <td>NaN</td>\n",
       "      <td>NaN</td>\n",
       "      <td>0.01</td>\n",
       "    </tr>\n",
       "    <tr>\n",
       "      <th>16524</th>\n",
       "      <td>Dungeons 2</td>\n",
       "      <td>PS4</td>\n",
       "      <td>2016</td>\n",
       "      <td>Role-Playing</td>\n",
       "      <td>0.01</td>\n",
       "      <td>0.00</td>\n",
       "      <td>0.00</td>\n",
       "      <td>0.00</td>\n",
       "      <td>61.0</td>\n",
       "      <td>7.9</td>\n",
       "      <td>T</td>\n",
       "      <td>0.01</td>\n",
       "    </tr>\n",
       "    <tr>\n",
       "      <th>16528</th>\n",
       "      <td>Carmageddon: Max Damage</td>\n",
       "      <td>PS4</td>\n",
       "      <td>2016</td>\n",
       "      <td>Action</td>\n",
       "      <td>0.01</td>\n",
       "      <td>0.00</td>\n",
       "      <td>0.00</td>\n",
       "      <td>0.00</td>\n",
       "      <td>51.0</td>\n",
       "      <td>5.5</td>\n",
       "      <td>M</td>\n",
       "      <td>0.01</td>\n",
       "    </tr>\n",
       "    <tr>\n",
       "      <th>16583</th>\n",
       "      <td>Farming 2017 - The Simulation</td>\n",
       "      <td>PS4</td>\n",
       "      <td>2016</td>\n",
       "      <td>Simulation</td>\n",
       "      <td>0.00</td>\n",
       "      <td>0.01</td>\n",
       "      <td>0.00</td>\n",
       "      <td>0.00</td>\n",
       "      <td>NaN</td>\n",
       "      <td>NaN</td>\n",
       "      <td>NaN</td>\n",
       "      <td>0.01</td>\n",
       "    </tr>\n",
       "  </tbody>\n",
       "</table>\n",
       "<p>854 rows × 12 columns</p>\n",
       "</div>"
      ],
      "text/plain": [
       "                                name platform  year_of_release         genre  \\\n",
       "1                  Super Mario Bros.      NES             1985      Platform   \n",
       "4           Pokemon Red/Pokemon Blue       GB             1996  Role-Playing   \n",
       "5                             Tetris       GB             1989        Puzzle   \n",
       "9                          Duck Hunt      NES             1984       Shooter   \n",
       "12       Pokemon Gold/Pokemon Silver       GB             1999  Role-Playing   \n",
       "...                              ...      ...              ...           ...   \n",
       "16498                    Root Letter      PS4             2016     Adventure   \n",
       "16501              Shin Hayarigami 2      PS4             2016     Adventure   \n",
       "16524                     Dungeons 2      PS4             2016  Role-Playing   \n",
       "16528        Carmageddon: Max Damage      PS4             2016        Action   \n",
       "16583  Farming 2017 - The Simulation      PS4             2016    Simulation   \n",
       "\n",
       "       na_sales  eu_sales  jp_sales  other_sales  critic_score  user_score  \\\n",
       "1         29.08      3.58      6.81         0.77           NaN         NaN   \n",
       "4         11.27      8.89     10.22         1.00           NaN         NaN   \n",
       "5         23.20      2.26      4.22         0.58           NaN         NaN   \n",
       "9         26.93      0.63      0.28         0.47           NaN         NaN   \n",
       "12         9.00      6.18      7.20         0.71           NaN         NaN   \n",
       "...         ...       ...       ...          ...           ...         ...   \n",
       "16498      0.00      0.00      0.01         0.00          69.0         7.5   \n",
       "16501      0.00      0.00      0.01         0.00           NaN         NaN   \n",
       "16524      0.01      0.00      0.00         0.00          61.0         7.9   \n",
       "16528      0.01      0.00      0.00         0.00          51.0         5.5   \n",
       "16583      0.00      0.01      0.00         0.00           NaN         NaN   \n",
       "\n",
       "      rating  total_sales  \n",
       "1        NaN        40.24  \n",
       "4        NaN        31.38  \n",
       "5        NaN        30.26  \n",
       "9        NaN        28.31  \n",
       "12       NaN        23.09  \n",
       "...      ...          ...  \n",
       "16498    NaN         0.01  \n",
       "16501    NaN         0.01  \n",
       "16524      T         0.01  \n",
       "16528      M         0.01  \n",
       "16583    NaN         0.01  \n",
       "\n",
       "[854 rows x 12 columns]"
      ]
     },
     "metadata": {},
     "output_type": "display_data"
    },
    {
     "data": {
      "text/plain": [
       "<Axes: title={'center': 'Top 5 de plataformas con mayores ventas: cantidad de videojuegos lanzados a través de los años'}, xlabel='Años', ylabel='Videojuegos'>"
      ]
     },
     "execution_count": 16,
     "metadata": {},
     "output_type": "execute_result"
    },
    {
     "data": {
      "image/png": "[encoded data removed]",
      "text/plain": [
       "<Figure size 640x480 with 1 Axes>"
      ]
     },
     "metadata": {},
     "output_type": "display_data"
    }
   ],
   "source": [
    "#creamos una variable lista que contenga los nombres de las 5 plataformas con mayores ventas\n",
    "list_top_platforms = ['GB', 'GEN', 'NES', 'PS4', 'SNES']\n",
    "#hacemos un filtrado de las plataformas en el dataframe\n",
    "top_platforms = games.query('platform in @list_top_platforms')\n",
    "display(top_platforms)\n",
    "#Graficamos un histograma \n",
    "top_platforms_group = top_platforms.groupby('year_of_release')['name'].count()\n",
    "#display(games_per_year)\n",
    "top_platforms_group.plot( kind = 'bar',\n",
    "    title = 'Top 5 de plataformas con mayores ventas: cantidad de videojuegos lanzados a través de los años',\n",
    "    xlabel = 'Años',\n",
    "    ylabel = 'Videojuegos')"
   ]
  },
  {
   "cell_type": "markdown",
   "id": "955231df",
   "metadata": {},
   "source": [
    " #### Busca las plataformas que solían ser populares pero que ahora no tienen ventas\n",
    "Para ello vamos a hacer varios query para las diferentes plataformas, agruparemos por año, y sacaremos la suma de las ventas totales para cada año."
   ]
  },
  {
   "cell_type": "code",
   "execution_count": 17,
   "id": "13add6ff",
   "metadata": {},
   "outputs": [],
   "source": [
    "platform_GB = top_platforms[top_platforms['platform']== 'GB'].groupby('year_of_release')['total_sales'].sum()\n",
    "platform_GEN = top_platforms[top_platforms['platform']== 'GEN'].groupby('year_of_release')['total_sales'].sum()\n",
    "platform_NES = top_platforms[top_platforms['platform']== 'NES'].groupby('year_of_release')['total_sales'].sum()\n",
    "platform_PS4 = top_platforms[top_platforms['platform']== 'PS4'].groupby('year_of_release')['total_sales'].sum()\n",
    "platform_SNES = top_platforms[top_platforms['platform']== 'SNES'].groupby('year_of_release')['total_sales'].sum()"
   ]
  },
  {
   "cell_type": "code",
   "execution_count": 18,
   "id": "a509814d",
   "metadata": {},
   "outputs": [
    {
     "data": {
      "text/plain": [
       "<Axes: title={'center': 'Top 5 de plataformas más vendidas: total de ventas a lo largo de los años'}, xlabel='años', ylabel='total de ventas en USD'>"
      ]
     },
     "execution_count": 18,
     "metadata": {},
     "output_type": "execute_result"
    },
    {
     "data": {
      "image/png": "[encoded data removed]",
      "text/plain": [
       "<Figure size 640x480 with 1 Axes>"
      ]
     },
     "metadata": {},
     "output_type": "display_data"
    }
   ],
   "source": [
    "#Creamos otro dataframe con el filtrado y agrupamiento que hicimos en la celda anterior:\n",
    "top_plataforms_sales = pd.concat([platform_GB, platform_GEN, platform_NES, platform_PS4, platform_SNES], axis = 'columns')\n",
    "top_plataforms_sales.columns = range(top_plataforms_sales.shape[1])\n",
    "top_plataforms_sales.rename(columns = {0:'GB', 1:'GEN', 2:'NES', 3:'PS4', 4:'SNES'}, inplace = True)\n",
    "top_plataforms_sales.sort_index(inplace = True)\n",
    "#display(top_plataforms_sales)\n",
    "top_plataforms_sales.plot(kind = 'bar',\n",
    "                         title = 'Top 5 de plataformas más vendidas: total de ventas a lo largo de los años',\n",
    "                         xlabel = 'años',\n",
    "                         ylabel = 'total de ventas en USD')"
   ]
  },
  {
   "cell_type": "markdown",
   "id": "64bc0dbb",
   "metadata": {},
   "source": [
    "####  ¿Cuánto tardan generalmente las nuevas plataformas en aparecer y las antiguas en desaparecer?\n",
    "Tardan entre 1-4 años en aparecer, una vez en el mercado se establecen las ventas hasta por 10 años.\n",
    "\n",
    "#### Determina para qué período debes tomar datos, los datos deberían permitirte construir un modelo para 2017\n",
    "Considerando los datos anteriores, para un modelo de 2017 debería tomar encuenta los datos a partir del 2007 en adelante (10 años atrás). Ahora bien, si quiero considerar el pico de ventas del 2017 entonces debería tomar 5 años atrás y 5 adelante, o sea del periodo del 2012 al 2022.\n",
    "\n",
    "#### Trabaja solo con los datos que consideras relevantes. Ignora los datos de años anteriores\n",
    "Para ello volveré a tomar mi dataframe original y crearé uno nuevo únicamente con los datos a partir del 2012 en adelante"
   ]
  },
  {
   "cell_type": "code",
   "execution_count": 19,
   "id": "b50bb258",
   "metadata": {
    "scrolled": true
   },
   "outputs": [],
   "source": [
    "games_model_2017 = games[games['year_of_release'] >= 2012]"
   ]
  },
  {
   "cell_type": "code",
   "execution_count": 20,
   "id": "da09bfd4",
   "metadata": {},
   "outputs": [
    {
     "data": {
      "text/plain": [
       "platform\n",
       "3DS     0.490050\n",
       "DS      0.402121\n",
       "PC      0.247315\n",
       "PS2     0.400000\n",
       "PS3     0.584657\n",
       "PS4     0.801378\n",
       "PSP     0.067102\n",
       "PSV     0.119659\n",
       "Wii     0.653929\n",
       "WiiU    0.559116\n",
       "X360    0.805390\n",
       "XOne    0.645020\n",
       "Name: total_sales, dtype: float64"
      ]
     },
     "metadata": {},
     "output_type": "display_data"
    },
    {
     "data": {
      "text/plain": [
       "platform\n",
       "3DS     0.490050\n",
       "DS      0.402121\n",
       "PS2     0.400000\n",
       "PS3     0.584657\n",
       "PS4     0.801378\n",
       "Wii     0.653929\n",
       "WiiU    0.559116\n",
       "X360    0.805390\n",
       "XOne    0.645020\n",
       "Name: total_sales, dtype: float64"
      ]
     },
     "metadata": {},
     "output_type": "display_data"
    }
   ],
   "source": [
    "#Hago un agrupamiento por plataforma y obtengo la suma de ventas totales para cada una\n",
    "games_2017_sales = games_model_2017.groupby('platform')['total_sales'].mean()\n",
    "display(games_2017_sales)\n",
    "#hago un segundo filtrado para quedarme sólo con las plataformas de mayores ventas\n",
    "games_2017_sales = games_2017_sales[games_2017_sales >0.3]\n",
    "display(games_2017_sales)\n",
    "#hago una lista con los juegos de mayores ventas\n",
    "games_list_2017 = ['3DS', 'DS', 'PS3', 'PS4', 'PS2', 'Wii', 'WiiU', 'X360', 'XOne']\n",
    "#Hago un query de esas plataformas\n",
    "top_platforms_2017 = games_model_2017.query('platform in @games_list_2017')\n"
   ]
  },
  {
   "cell_type": "code",
   "execution_count": 21,
   "id": "cdcd4ec5",
   "metadata": {},
   "outputs": [],
   "source": [
    "#hago varios filtrados para poder hacer un dataframe con el que pueda graficar\n",
    "platform_3DS = top_platforms_2017[top_platforms_2017['platform']== '3DS'].groupby('year_of_release')['total_sales'].sum()\n",
    "platform_DS = top_platforms_2017[top_platforms_2017['platform']== 'DS'].groupby('year_of_release')['total_sales'].sum()\n",
    "platform_PS2 = top_platforms_2017[top_platforms_2017['platform']== 'PS2'].groupby('year_of_release')['total_sales'].sum()\n",
    "platform_PS3 = top_platforms_2017[top_platforms_2017['platform']== 'PS3'].groupby('year_of_release')['total_sales'].sum()\n",
    "platform_PS4 = top_platforms_2017[top_platforms_2017['platform']== 'PS4'].groupby('year_of_release')['total_sales'].sum()\n",
    "platform_Wii = top_platforms_2017[top_platforms_2017['platform']== 'Wii'].groupby('year_of_release')['total_sales'].sum()\n",
    "platform_WiiU = top_platforms_2017[top_platforms_2017['platform']== 'WiiU'].groupby('year_of_release')['total_sales'].sum()\n",
    "platform_X360 = top_platforms_2017[top_platforms_2017['platform']== 'X360'].groupby('year_of_release')['total_sales'].sum()\n",
    "platform_XOne = top_platforms_2017[top_platforms_2017['platform']== 'XOne'].groupby('year_of_release')['total_sales'].sum()"
   ]
  },
  {
   "cell_type": "code",
   "execution_count": 22,
   "id": "f607b0c3",
   "metadata": {},
   "outputs": [
    {
     "data": {
      "text/plain": [
       "<Axes: title={'center': 'Top 5 de plataformas más vendidas: total de ventas a lo largo de los años'}, xlabel='años', ylabel='total de ventas en USD'>"
      ]
     },
     "execution_count": 22,
     "metadata": {},
     "output_type": "execute_result"
    },
    {
     "data": {
      "image/png": "[encoded data removed]",
      "text/plain": [
       "<Figure size 640x480 with 1 Axes>"
      ]
     },
     "metadata": {},
     "output_type": "display_data"
    }
   ],
   "source": [
    "#Creamos otro dataframe con el filtrado y agrupamiento que hicimos en la celda anterior:\n",
    "df_model_2017 = pd.concat([platform_3DS, platform_DS, platform_PS2, platform_PS3, platform_PS4, platform_Wii, platform_WiiU, platform_X360, platform_XOne ], axis = 'columns')\n",
    "df_model_2017.columns = range(df_model_2017.shape[1])\n",
    "df_model_2017.rename(columns = {0:'3DS', 1:'DS', 2:'PS2', 3:'PS3', 4:'PS4', 5:'Wii', 6:'WiiU', 7:'X360', 8:'XOne'}, inplace = True)\n",
    "df_model_2017.sort_index(inplace = True)\n",
    "#display(df_model_2017)\n",
    "df_model_2017.plot(kind = 'bar',\n",
    "                         title = 'Top 5 de plataformas más vendidas: total de ventas a lo largo de los años',\n",
    "                         xlabel = 'años',\n",
    "                        ylabel = 'total de ventas en USD')"
   ]
  },
  {
   "cell_type": "markdown",
   "id": "40ab90f1",
   "metadata": {},
   "source": [
    "#### ¿Qué plataformas son líderes en ventas? ¿Cuáles crecen y cuáles se reducen? Elige varias plataformas potencialmente rentables.\n",
    "PS3, PS4 y X360. Las que crecen aparentemente son PS4 y XOne, y las que disminuyen son todas las demás, sin embargo hay que considerar que no tenemos datos del 2017, año en el cual fue lanzado el Nintendo Switch y ha tenido grandes ventas en los últimos años. "
   ]
  },
  {
   "cell_type": "markdown",
   "id": "35588d13",
   "metadata": {},
   "source": [
    "#### Crea un diagrama de caja para las ventas globales de todos los juegos, desglosados por plataforma"
   ]
  },
  {
   "cell_type": "code",
   "execution_count": 23,
   "id": "ca51688c",
   "metadata": {
    "scrolled": true
   },
   "outputs": [
    {
     "data": {
      "text/plain": [
       "<Axes: >"
      ]
     },
     "execution_count": 23,
     "metadata": {},
     "output_type": "execute_result"
    },
    {
     "data": {
      "image/png": "[encoded data removed]",
      "text/plain": [
       "<Figure size 640x480 with 1 Axes>"
      ]
     },
     "metadata": {},
     "output_type": "display_data"
    }
   ],
   "source": [
    "df_model_2017.boxplot()"
   ]
  },
  {
   "cell_type": "markdown",
   "id": "af021d7b",
   "metadata": {},
   "source": [
    "#### ¿Son significativas las diferencias en las ventas?\n",
    "Sí, podemos observar a simple vista que las ventas de PS4 son mucho mayores en comparación a las ventas de otras plataformas como DS, PS2, Wii, WiiU, inclusive me atrevería a decir a que es diferente a todas las demás. Sin embargo para saber si realmente hay diferencia significativa entre las ventas de cada plataforma tendríamos que realizar un ANOVA. \n",
    "#### ¿Qué sucede con las ventas promedio en varias plataformas? Describe tus hallazgos.\n",
    "Hay mucho sesgo, por ejemplo en el caso de PS3 y X360, los datos están muy por arriba o muy por debajo de  la media. En otros casos, como en el de PC la media está al nivel del 3er cuartil, lo cual nos indica que hay un sesgo positivo. "
   ]
  },
  {
   "cell_type": "markdown",
   "id": "0f523c0b",
   "metadata": {},
   "source": [
    "<div class=\"alert alert-block alert-success\">\n",
    "<b>Comentario del revisor</b><br>\n",
    "Tu análisis de los datos es sólido, especialmente cuando exploras las ventas de juegos a lo largo de los años y entre las diferentes plataformas. La selección de las plataformas con mayores ventas y el análisis de su distribución a lo largo del tiempo proporcionan insights valiosos sobre las tendencias del mercado. También, has hecho un excelente trabajo al identificar las plataformas líderes en ventas y aquellas que están creciendo o reduciéndose, lo cual es crucial para entender la evolución del mercado de videojuegos.\n",
    "</div>"
   ]
  },
  {
   "cell_type": "markdown",
   "id": "bfe3a0e7",
   "metadata": {},
   "source": [
    "#### Mira cómo las reseñas de usuarios y profesionales afectan las ventas de una plataforma popular (PS4)\n",
    "#### Crea un gráfico de dispersión y calcula la correlación entre las reseñas y las ventas. "
   ]
  },
  {
   "cell_type": "code",
   "execution_count": 24,
   "id": "2d14a710",
   "metadata": {
    "scrolled": true
   },
   "outputs": [],
   "source": [
    "#Hacemos un filtrado de los juegos para la plataforma PS4\n",
    "ps4 = games[games['platform'] == 'PS4']\n",
    "#display(ps4)"
   ]
  },
  {
   "cell_type": "markdown",
   "id": "21e50c1b",
   "metadata": {},
   "source": [
    "Scatterplot: Ventas totales de acuerdo a la puntuación de profesionales y usuarios"
   ]
  },
  {
   "cell_type": "code",
   "execution_count": 25,
   "id": "468ed17d",
   "metadata": {},
   "outputs": [
    {
     "data": {
      "image/png": "[encoded data removed]",
      "text/plain": [
       "<Figure size 640x480 with 1 Axes>"
      ]
     },
     "metadata": {},
     "output_type": "display_data"
    }
   ],
   "source": [
    "plt.scatter(ps4['critic_score'], ps4['total_sales'], color= 'blue', label = 'reseñas profesionales')\n",
    "plt.scatter(ps4['user_score'], ps4['total_sales'], color= 'red', label = 'reseñas usuarios')\n",
    "plt.ylabel('ventas totales')\n",
    "plt.xlabel('score')\n",
    "plt.legend()\n",
    "plt.show()"
   ]
  },
  {
   "cell_type": "code",
   "execution_count": 26,
   "id": "f84f2869",
   "metadata": {},
   "outputs": [
    {
     "name": "stdout",
     "output_type": "stream",
     "text": [
      "Correlación entre total de ventas y reseñas de profesionales: 0.406567902061781\n",
      "Correlación entre total de ventas y reseñas de usuarios: -0.031957110204556424\n"
     ]
    }
   ],
   "source": [
    "#calculando correlación\n",
    "print('Correlación entre total de ventas y reseñas de profesionales:', ps4['total_sales'].corr(ps4['critic_score']))\n",
    "print('Correlación entre total de ventas y reseñas de usuarios:', ps4['total_sales'].corr(ps4['user_score']))"
   ]
  },
  {
   "cell_type": "markdown",
   "id": "8c47d8c7",
   "metadata": {},
   "source": [
    "<div class=\"alert alert-block alert-success\">\n",
    "<b>Comentario del revisor</b> <a class=“tocSkip”></a>\n",
    "El uso de dispersión de caja para visualizar las ventas globales por plataforma y el cálculo de correlaciones demuestra un análisis meticuloso. **Has calculado la correlación como se solicitó en el brief del proyecto**, proporcionando una comprensión clara de la relación entre puntuaciones y ventas.\n",
    "</div>\n"
   ]
  },
  {
   "cell_type": "markdown",
   "id": "049d19dc",
   "metadata": {},
   "source": [
    "#### Saca conclusiones\n",
    "Observamos que las reseñas de los críticos profesionales sí tiene una correlación positiva en las ventas de videojuegos. Mientras que las reseñas de usuarios no parecen afectar las ventas de un videojuego en particular."
   ]
  },
  {
   "cell_type": "markdown",
   "id": "37932f6a",
   "metadata": {},
   "source": [
    "#### Teniendo en cuenta tus conclusiones compara las ventas de los mismos juegos en otras plataformas"
   ]
  },
  {
   "cell_type": "code",
   "execution_count": 27,
   "id": "c2f270a9",
   "metadata": {},
   "outputs": [
    {
     "data": {
      "image/png": "[encoded data removed]",
      "text/plain": [
       "<Figure size 640x480 with 1 Axes>"
      ]
     },
     "metadata": {},
     "output_type": "display_data"
    },
    {
     "name": "stdout",
     "output_type": "stream",
     "text": [
      "Correlación entre total de ventas y reseñas de profesionales: 0.3055294197150816\n",
      "Correlación entre total de ventas y reseñas de usuarios: -0.039902074451970436\n"
     ]
    }
   ],
   "source": [
    "#Buscamos los nombres de los juegos\n",
    "names_ps4 = ps4['name'].unique()\n",
    "#convertimos el array en list\n",
    "names_ps4 = names_ps4.tolist()\n",
    "#hacemos un query de los mismos juegos del punto anterior\n",
    "same_games = games.query('name in @names_ps4')\n",
    "#filtramos sólo las plataformas que no sean PS4\n",
    "same_games = same_games[same_games['platform'] != 'PS4']\n",
    "#Graficamos\n",
    "plt.scatter(same_games['critic_score'], same_games['total_sales'], color= 'blue', label = 'reseñas profesionales')\n",
    "plt.scatter(same_games['user_score'], same_games['total_sales'], color= 'red', label = 'reseñas usuarios')\n",
    "plt.ylabel('ventas totales')\n",
    "plt.xlabel('score')\n",
    "plt.legend()\n",
    "plt.show()\n",
    "#calculamos correlación\n",
    "print('Correlación entre total de ventas y reseñas de profesionales:', same_games['total_sales'].corr(same_games['critic_score']))\n",
    "print('Correlación entre total de ventas y reseñas de usuarios:', same_games['total_sales'].corr(same_games['user_score']))"
   ]
  },
  {
   "cell_type": "markdown",
   "id": "c4337b42",
   "metadata": {},
   "source": [
    "En este caso tenemos una menor correlación entre las reseñas profesionales y las ventas totales de cada videojuego, pero al final de cuentas sigue siendo un factor a tener en cuenta para las ventas. \n",
    "Al igual que la PS4 las reseñas de los clientes no afectaron mucho a las ventas."
   ]
  },
  {
   "cell_type": "markdown",
   "id": "066f2d1a",
   "metadata": {},
   "source": [
    "#### Echa un vistazo a la distribución general de los juegos por género"
   ]
  },
  {
   "cell_type": "code",
   "execution_count": 28,
   "id": "1856499c",
   "metadata": {},
   "outputs": [
    {
     "data": {
      "text/html": [
       "<div>\n",
       "<style scoped>\n",
       "    .dataframe tbody tr th:only-of-type {\n",
       "        vertical-align: middle;\n",
       "    }\n",
       "\n",
       "    .dataframe tbody tr th {\n",
       "        vertical-align: top;\n",
       "    }\n",
       "\n",
       "    .dataframe thead th {\n",
       "        text-align: right;\n",
       "    }\n",
       "</style>\n",
       "<table border=\"1\" class=\"dataframe\">\n",
       "  <thead>\n",
       "    <tr style=\"text-align: right;\">\n",
       "      <th>genre</th>\n",
       "      <th>Action</th>\n",
       "      <th>Adventure</th>\n",
       "      <th>Fighting</th>\n",
       "      <th>Misc</th>\n",
       "      <th>Platform</th>\n",
       "      <th>Puzzle</th>\n",
       "      <th>Racing</th>\n",
       "      <th>Role-Playing</th>\n",
       "      <th>Shooter</th>\n",
       "      <th>Simulation</th>\n",
       "      <th>Sports</th>\n",
       "      <th>Strategy</th>\n",
       "    </tr>\n",
       "  </thead>\n",
       "  <tbody>\n",
       "    <tr>\n",
       "      <th>name</th>\n",
       "      <td>3369.000000</td>\n",
       "      <td>1303.000000</td>\n",
       "      <td>849.000000</td>\n",
       "      <td>1750.000000</td>\n",
       "      <td>888.000000</td>\n",
       "      <td>580.000000</td>\n",
       "      <td>1249.000000</td>\n",
       "      <td>1498.000000</td>\n",
       "      <td>1323.000000</td>\n",
       "      <td>873.000000</td>\n",
       "      <td>2348.000000</td>\n",
       "      <td>683.000000</td>\n",
       "    </tr>\n",
       "    <tr>\n",
       "      <th>total_sales</th>\n",
       "      <td>0.517711</td>\n",
       "      <td>0.182341</td>\n",
       "      <td>0.527126</td>\n",
       "      <td>0.458577</td>\n",
       "      <td>0.932173</td>\n",
       "      <td>0.418224</td>\n",
       "      <td>0.583403</td>\n",
       "      <td>0.623872</td>\n",
       "      <td>0.795503</td>\n",
       "      <td>0.446701</td>\n",
       "      <td>0.566980</td>\n",
       "      <td>0.255095</td>\n",
       "    </tr>\n",
       "    <tr>\n",
       "      <th>critic_score</th>\n",
       "      <td>66.629101</td>\n",
       "      <td>65.331269</td>\n",
       "      <td>69.217604</td>\n",
       "      <td>66.619503</td>\n",
       "      <td>68.058350</td>\n",
       "      <td>67.424107</td>\n",
       "      <td>67.963612</td>\n",
       "      <td>72.652646</td>\n",
       "      <td>70.181144</td>\n",
       "      <td>68.619318</td>\n",
       "      <td>71.968174</td>\n",
       "      <td>72.086093</td>\n",
       "    </tr>\n",
       "    <tr>\n",
       "      <th>user_score</th>\n",
       "      <td>7.054044</td>\n",
       "      <td>7.133000</td>\n",
       "      <td>7.302506</td>\n",
       "      <td>6.819362</td>\n",
       "      <td>7.301402</td>\n",
       "      <td>7.175000</td>\n",
       "      <td>7.036193</td>\n",
       "      <td>7.619515</td>\n",
       "      <td>7.041883</td>\n",
       "      <td>7.134593</td>\n",
       "      <td>6.961197</td>\n",
       "      <td>7.295177</td>\n",
       "    </tr>\n",
       "  </tbody>\n",
       "</table>\n",
       "</div>"
      ],
      "text/plain": [
       "genre              Action    Adventure    Fighting         Misc    Platform  \\\n",
       "name          3369.000000  1303.000000  849.000000  1750.000000  888.000000   \n",
       "total_sales      0.517711     0.182341    0.527126     0.458577    0.932173   \n",
       "critic_score    66.629101    65.331269   69.217604    66.619503   68.058350   \n",
       "user_score       7.054044     7.133000    7.302506     6.819362    7.301402   \n",
       "\n",
       "genre             Puzzle       Racing  Role-Playing      Shooter  Simulation  \\\n",
       "name          580.000000  1249.000000   1498.000000  1323.000000  873.000000   \n",
       "total_sales     0.418224     0.583403      0.623872     0.795503    0.446701   \n",
       "critic_score   67.424107    67.963612     72.652646    70.181144   68.619318   \n",
       "user_score      7.175000     7.036193      7.619515     7.041883    7.134593   \n",
       "\n",
       "genre              Sports    Strategy  \n",
       "name          2348.000000  683.000000  \n",
       "total_sales      0.566980    0.255095  \n",
       "critic_score    71.968174   72.086093  \n",
       "user_score       6.961197    7.295177  "
      ]
     },
     "metadata": {},
     "output_type": "display_data"
    },
    {
     "data": {
      "text/plain": [
       "<Axes: title={'center': 'Ventas totales por género'}, xlabel='Género', ylabel='Promedio de ventas totales en USD'>"
      ]
     },
     "execution_count": 28,
     "metadata": {},
     "output_type": "execute_result"
    },
    {
     "data": {
      "image/png": "[encoded data removed]",
      "text/plain": [
       "<Figure size 640x480 with 1 Axes>"
      ]
     },
     "metadata": {},
     "output_type": "display_data"
    }
   ],
   "source": [
    "#primero vamos a revisar la cantidad de videojuegos por género\n",
    "genre_names = games.groupby('genre')['name'].count()\n",
    "#sacamos el promedio de ventas totales por género\n",
    "genre_sales = games.groupby('genre')['total_sales'].mean()\n",
    "genre_critic_score = games.groupby('genre')['critic_score'].mean()\n",
    "genre_user_score = games.groupby('genre')['user_score'].mean()\n",
    "df_genre = pd.DataFrame([genre_names,genre_sales, genre_critic_score, genre_user_score])\n",
    "display(df_genre)\n",
    "#graficamos\n",
    "genre_sales.plot(kind = 'bar',\n",
    "                title = 'Ventas totales por género',\n",
    "                xlabel = 'Género',\n",
    "                ylabel = 'Promedio de ventas totales en USD')\n"
   ]
  },
  {
   "cell_type": "markdown",
   "id": "0c69a5d4",
   "metadata": {},
   "source": [
    "#### ¿Qué se puede decir de los géneros más rentables? \n",
    "Los juegos plataformeros han sido los más vendidos.\n",
    "#### ¿Puedes generalizar acerca de los géneros con ventas altas y bajas?\n",
    "No, por que ya vimos que también depende de otros factores, como las críticas de los profesionales. "
   ]
  },
  {
   "cell_type": "markdown",
   "id": "fd31154f",
   "metadata": {},
   "source": [
    "### Paso 4. Crea un perfil de usuario para cada región\n",
    "#### Para cada región (NA, UE, JP) determina:\n",
    "#### Las cinco plataformas principales."
   ]
  },
  {
   "cell_type": "code",
   "execution_count": 29,
   "id": "9ac3b7db",
   "metadata": {
    "scrolled": true
   },
   "outputs": [
    {
     "data": {
      "text/plain": [
       "<Axes: xlabel='region_platform', ylabel='sales'>"
      ]
     },
     "execution_count": 29,
     "metadata": {},
     "output_type": "execute_result"
    },
    {
     "data": {
      "image/png": "[encoded data removed]",
      "text/plain": [
       "<Figure size 640x480 with 1 Axes>"
      ]
     },
     "metadata": {},
     "output_type": "display_data"
    }
   ],
   "source": [
    "region_platform = top_platforms.groupby('platform').agg({'na_sales':'sum', 'eu_sales':'sum', 'jp_sales':'sum'}).reset_index()\n",
    "#display(region_platform)\n",
    "region_platform_market = pd.melt(region_platform, id_vars = ['platform'], value_vars = ['na_sales', 'eu_sales','jp_sales'], var_name = 'region_platform', value_name = 'sales')\n",
    "#display(region_platform_market)\n",
    "sns.barplot(region_platform_market, x= 'region_platform', y = 'sales', hue = 'platform')"
   ]
  },
  {
   "cell_type": "markdown",
   "id": "818d1d46",
   "metadata": {},
   "source": [
    "#### Describe las variaciones en sus cuotas de mercado de una región a otra.\n",
    "En Norteamérica se observa que NES es la plataforma con mayores ventas (arriba de 120 DLS), seguido de GB (114 DLS) y PS4 (108 DLS).\n",
    "\n",
    "En Europa la plataforma favorita fue PS4 (con arriba de 140 DLS en ventas), seguida de GB (47 DLS).\n",
    "\n",
    "Finalmente en Japón la plataforma preferida fue SNES (con más de 115 DLS en ventas), seguida de NES (98 DLS) y GB (85 DLS). \n",
    "\n",
    "Podemos observar cómo GEN también es la plataforma con menores ventas en todas las regiones. \n",
    "\n",
    "Norteamérica al parecer fue quien tuvo mayores ventas en general, y Europa la región con menos ventas. "
   ]
  },
  {
   "cell_type": "markdown",
   "id": "449c3020",
   "metadata": {},
   "source": [
    "#### Los cinco géneros principales. Explica la diferencia.\n",
    "\n"
   ]
  },
  {
   "cell_type": "code",
   "execution_count": 30,
   "id": "3c97e37d",
   "metadata": {},
   "outputs": [
    {
     "data": {
      "text/html": [
       "<div>\n",
       "<style scoped>\n",
       "    .dataframe tbody tr th:only-of-type {\n",
       "        vertical-align: middle;\n",
       "    }\n",
       "\n",
       "    .dataframe tbody tr th {\n",
       "        vertical-align: top;\n",
       "    }\n",
       "\n",
       "    .dataframe thead th {\n",
       "        text-align: right;\n",
       "    }\n",
       "</style>\n",
       "<table border=\"1\" class=\"dataframe\">\n",
       "  <thead>\n",
       "    <tr style=\"text-align: right;\">\n",
       "      <th></th>\n",
       "      <th>genre</th>\n",
       "      <th>na_sales</th>\n",
       "      <th>eu_sales</th>\n",
       "      <th>jp_sales</th>\n",
       "    </tr>\n",
       "  </thead>\n",
       "  <tbody>\n",
       "    <tr>\n",
       "      <th>0</th>\n",
       "      <td>Action</td>\n",
       "      <td>879.01</td>\n",
       "      <td>519.13</td>\n",
       "      <td>161.43</td>\n",
       "    </tr>\n",
       "    <tr>\n",
       "      <th>1</th>\n",
       "      <td>Adventure</td>\n",
       "      <td>105.26</td>\n",
       "      <td>63.54</td>\n",
       "      <td>52.30</td>\n",
       "    </tr>\n",
       "    <tr>\n",
       "      <th>2</th>\n",
       "      <td>Fighting</td>\n",
       "      <td>223.36</td>\n",
       "      <td>100.33</td>\n",
       "      <td>87.48</td>\n",
       "    </tr>\n",
       "    <tr>\n",
       "      <th>3</th>\n",
       "      <td>Misc</td>\n",
       "      <td>407.27</td>\n",
       "      <td>212.74</td>\n",
       "      <td>108.11</td>\n",
       "    </tr>\n",
       "    <tr>\n",
       "      <th>4</th>\n",
       "      <td>Platform</td>\n",
       "      <td>445.50</td>\n",
       "      <td>200.35</td>\n",
       "      <td>130.83</td>\n",
       "    </tr>\n",
       "    <tr>\n",
       "      <th>5</th>\n",
       "      <td>Puzzle</td>\n",
       "      <td>122.87</td>\n",
       "      <td>50.01</td>\n",
       "      <td>57.31</td>\n",
       "    </tr>\n",
       "    <tr>\n",
       "      <th>6</th>\n",
       "      <td>Racing</td>\n",
       "      <td>359.35</td>\n",
       "      <td>236.51</td>\n",
       "      <td>56.71</td>\n",
       "    </tr>\n",
       "    <tr>\n",
       "      <th>7</th>\n",
       "      <td>Role-Playing</td>\n",
       "      <td>330.81</td>\n",
       "      <td>188.71</td>\n",
       "      <td>355.41</td>\n",
       "    </tr>\n",
       "    <tr>\n",
       "      <th>8</th>\n",
       "      <td>Shooter</td>\n",
       "      <td>592.24</td>\n",
       "      <td>317.34</td>\n",
       "      <td>38.76</td>\n",
       "    </tr>\n",
       "    <tr>\n",
       "      <th>9</th>\n",
       "      <td>Simulation</td>\n",
       "      <td>181.92</td>\n",
       "      <td>113.52</td>\n",
       "      <td>63.80</td>\n",
       "    </tr>\n",
       "    <tr>\n",
       "      <th>10</th>\n",
       "      <td>Sports</td>\n",
       "      <td>684.43</td>\n",
       "      <td>376.79</td>\n",
       "      <td>135.54</td>\n",
       "    </tr>\n",
       "    <tr>\n",
       "      <th>11</th>\n",
       "      <td>Strategy</td>\n",
       "      <td>68.55</td>\n",
       "      <td>45.17</td>\n",
       "      <td>49.66</td>\n",
       "    </tr>\n",
       "  </tbody>\n",
       "</table>\n",
       "</div>"
      ],
      "text/plain": [
       "           genre  na_sales  eu_sales  jp_sales\n",
       "0         Action    879.01    519.13    161.43\n",
       "1      Adventure    105.26     63.54     52.30\n",
       "2       Fighting    223.36    100.33     87.48\n",
       "3           Misc    407.27    212.74    108.11\n",
       "4       Platform    445.50    200.35    130.83\n",
       "5         Puzzle    122.87     50.01     57.31\n",
       "6         Racing    359.35    236.51     56.71\n",
       "7   Role-Playing    330.81    188.71    355.41\n",
       "8        Shooter    592.24    317.34     38.76\n",
       "9     Simulation    181.92    113.52     63.80\n",
       "10        Sports    684.43    376.79    135.54\n",
       "11      Strategy     68.55     45.17     49.66"
      ]
     },
     "metadata": {},
     "output_type": "display_data"
    },
    {
     "data": {
      "text/plain": [
       "<Axes: xlabel='region_genre', ylabel='sales'>"
      ]
     },
     "execution_count": 30,
     "metadata": {},
     "output_type": "execute_result"
    },
    {
     "data": {
      "image/png": "[encoded data removed]",
      "text/plain": [
       "<Figure size 640x480 with 1 Axes>"
      ]
     },
     "metadata": {},
     "output_type": "display_data"
    }
   ],
   "source": [
    "region_genre = games.groupby('genre').agg({'na_sales':'sum', 'eu_sales':'sum', 'jp_sales':'sum'}).reset_index()\n",
    "display(region_genre)\n",
    "region_genre_market = pd.melt(region_genre, id_vars = ['genre'], value_vars = ['na_sales', 'eu_sales','jp_sales'], var_name = 'region_genre', value_name = 'sales')\n",
    "#display(region_genre_market)\n",
    "sns.barplot(region_genre_market, x = 'region_genre', y = 'sales', hue = 'genre')"
   ]
  },
  {
   "cell_type": "markdown",
   "id": "ed06e6c0",
   "metadata": {},
   "source": [
    "En el caso de los géneros más gustados dependiendo de la región, observamos que mientras que en Norteamérica y en Europa prefieren los juegos de género acción (879 y 519 DLS respectivamente), en Japón se prefieren los role-playing (355 DLS).\n",
    "\n",
    "En Norteamérica y Europa en segundo lugar se encuentran los Sport games (684 y 376 DLS respectivamente) y en tercer lugar los Shooter games (592 y 317 DLS respectivamente). \n",
    "\n",
    "En Japón en segundo lugar se encuentran los sport games (135 DLS) y en tercer lugar los de acción (161 DLS)\n",
    "\n",
    "Todo esto lo consideramos de acuerdo a la suma de las ventas totales por género, sin embargo, si tomamos en cuenta el promedio veremos que de nuevo los juegos del género plataformeros serán los de mayor rentabilidad. \n"
   ]
  },
  {
   "cell_type": "markdown",
   "id": "d2493d22",
   "metadata": {},
   "source": [
    "#### Si las clasificaciones de ESRB afectan a las ventas en regiones individuales."
   ]
  },
  {
   "cell_type": "code",
   "execution_count": 31,
   "id": "52a556c7",
   "metadata": {},
   "outputs": [
    {
     "data": {
      "text/html": [
       "<div>\n",
       "<style scoped>\n",
       "    .dataframe tbody tr th:only-of-type {\n",
       "        vertical-align: middle;\n",
       "    }\n",
       "\n",
       "    .dataframe tbody tr th {\n",
       "        vertical-align: top;\n",
       "    }\n",
       "\n",
       "    .dataframe thead th {\n",
       "        text-align: right;\n",
       "    }\n",
       "</style>\n",
       "<table border=\"1\" class=\"dataframe\">\n",
       "  <thead>\n",
       "    <tr style=\"text-align: right;\">\n",
       "      <th></th>\n",
       "      <th>rating</th>\n",
       "      <th>na_sales</th>\n",
       "      <th>eu_sales</th>\n",
       "      <th>jp_sales</th>\n",
       "    </tr>\n",
       "  </thead>\n",
       "  <tbody>\n",
       "    <tr>\n",
       "      <th>0</th>\n",
       "      <td>AO</td>\n",
       "      <td>1.26</td>\n",
       "      <td>0.61</td>\n",
       "      <td>0.00</td>\n",
       "    </tr>\n",
       "    <tr>\n",
       "      <th>1</th>\n",
       "      <td>E</td>\n",
       "      <td>1292.99</td>\n",
       "      <td>710.25</td>\n",
       "      <td>198.11</td>\n",
       "    </tr>\n",
       "    <tr>\n",
       "      <th>2</th>\n",
       "      <td>E10+</td>\n",
       "      <td>353.32</td>\n",
       "      <td>188.52</td>\n",
       "      <td>40.20</td>\n",
       "    </tr>\n",
       "    <tr>\n",
       "      <th>3</th>\n",
       "      <td>EC</td>\n",
       "      <td>1.53</td>\n",
       "      <td>0.11</td>\n",
       "      <td>0.00</td>\n",
       "    </tr>\n",
       "    <tr>\n",
       "      <th>4</th>\n",
       "      <td>K-A</td>\n",
       "      <td>2.56</td>\n",
       "      <td>0.27</td>\n",
       "      <td>1.46</td>\n",
       "    </tr>\n",
       "    <tr>\n",
       "      <th>5</th>\n",
       "      <td>M</td>\n",
       "      <td>748.48</td>\n",
       "      <td>483.97</td>\n",
       "      <td>64.24</td>\n",
       "    </tr>\n",
       "    <tr>\n",
       "      <th>6</th>\n",
       "      <td>RP</td>\n",
       "      <td>0.00</td>\n",
       "      <td>0.08</td>\n",
       "      <td>0.00</td>\n",
       "    </tr>\n",
       "    <tr>\n",
       "      <th>7</th>\n",
       "      <td>T</td>\n",
       "      <td>759.75</td>\n",
       "      <td>427.03</td>\n",
       "      <td>151.40</td>\n",
       "    </tr>\n",
       "  </tbody>\n",
       "</table>\n",
       "</div>"
      ],
      "text/plain": [
       "  rating  na_sales  eu_sales  jp_sales\n",
       "0     AO      1.26      0.61      0.00\n",
       "1      E   1292.99    710.25    198.11\n",
       "2   E10+    353.32    188.52     40.20\n",
       "3     EC      1.53      0.11      0.00\n",
       "4    K-A      2.56      0.27      1.46\n",
       "5      M    748.48    483.97     64.24\n",
       "6     RP      0.00      0.08      0.00\n",
       "7      T    759.75    427.03    151.40"
      ]
     },
     "metadata": {},
     "output_type": "display_data"
    },
    {
     "data": {
      "text/plain": [
       "<Axes: xlabel='region_rating', ylabel='sales'>"
      ]
     },
     "execution_count": 31,
     "metadata": {},
     "output_type": "execute_result"
    },
    {
     "data": {
      "image/png": "[encoded data removed]",
      "text/plain": [
       "<Figure size 640x480 with 1 Axes>"
      ]
     },
     "metadata": {},
     "output_type": "display_data"
    }
   ],
   "source": [
    "region_rating = games.groupby('rating').agg({'na_sales':'sum', 'eu_sales':'sum', 'jp_sales':'sum'}).reset_index()\n",
    "display(region_rating)\n",
    "region_rating_market = pd.melt(region_rating, id_vars = ['rating'], value_vars = ['na_sales', 'eu_sales','jp_sales'], var_name = 'region_rating', value_name = 'sales')\n",
    "#display(region_genre_market)\n",
    "sns.barplot(region_rating_market, x = 'region_rating', y = 'sales', hue = 'rating')\n",
    "#games[games['rating'] == 'AO']\n",
    "#games[games['rating'] == 'EC']\n",
    "#games[games['rating'] == 'K-A']\n",
    "#games[games['rating'] == 'RP']"
   ]
  },
  {
   "cell_type": "markdown",
   "id": "5e69a826",
   "metadata": {},
   "source": [
    "#### Guía de clasificación de rating: \n",
    "\n",
    "    * E = Everyone\n",
    "    * E10+ = Everyone 10+\n",
    "    * T = Teen, personas de 13 años en adelante\n",
    "    * M = Mature, de 17 años en adelante\n",
    "    * AO = Adults only\n",
    "    * RP = Rating pending\n",
    "    * EC = Early childhood, para niños de 3-6 años\n",
    "    * K-A = igual e E pero esta nomenclatura se cambió en 1998\n",
    "\n",
    "Considerando la guía de clasificación y los datos obtenidos, podemos concluír que la ESRB con mayores ventas es E (apto para todos) en todas las regiones del mundo. \n",
    "\n",
    "En Norteamérica tenemos en segundo lugar los juegos M y T, y en tercer lugar E10+.\n",
    "\n",
    "En Europa en segundo lugar está M y en tercer lugar T.\n",
    "\n",
    "Finalmente en Japón está en segundo lugar T y en tercer lugar M. \n",
    "\n",
    "También podemos obervar que aparentemente los juegos menos vendidos son los aptos sólo para adultos \"Grand Theft Auto: San Andreas\", en Japón hay 0 ventas de éste juego.\n",
    "\n",
    "En la clasificación EC tenemos 8 juegos de los cuales hay mayores ventas en Norteamérica, sguido de Europa y en Japón no hay ventas. \n",
    "\n",
    "En la clasificación K-A sólo tenemos 3 juegos, uno lanzado en 1996 y los otros dos lanzados en 1997\n",
    "\n",
    "Finalmente en la clasificación RP sólo hay 3 juegos de PC, dos del género estrategia y uno de carreras."
   ]
  },
  {
   "cell_type": "markdown",
   "id": "e4aa8040",
   "metadata": {},
   "source": [
    "### Paso 5. Prueba las siguientes hipótesis:\n",
    "\n",
    "H0: Las calificaciones promedio de los usuarios para las plataformas Xbox One y PC son las mismas\n",
    "\n",
    "H1: Las calificaciónes promedio de los usuarios para las plataformas XOne y PC son diferentes."
   ]
  },
  {
   "cell_type": "code",
   "execution_count": 32,
   "id": "8e28e9ad",
   "metadata": {},
   "outputs": [
    {
     "name": "stdout",
     "output_type": "stream",
     "text": [
      "\n",
      "La calificación promedio de usuarios para Xbox One es: 6.521428571428572\n",
      "La calificación promedio de usuarios para PC: 7.062467532467533\n",
      "t-statistic: -4.653422798410771\n",
      "p-value: 4.935072360183574e-06 \n",
      "\n",
      "Se rechaza la hipótesis nula\n"
     ]
    }
   ],
   "source": [
    "score_xone = games[games['platform'] == 'XOne']['user_score'].dropna()\n",
    "score_pc = games[games['platform'] == 'PC']['user_score'].dropna()\n",
    "#establecemos el nivel de significancia alpha\n",
    "alpha = 0.05\n",
    "#realizamos una t de student puesto que desconocemos las varianzas de cada muestra\n",
    "#equal_var lo ponemos como False ya que asumimos que son varianzas diferentes para cada muestra\n",
    "results_platforms = st.ttest_ind(score_xone, score_pc, equal_var = False)\n",
    "print(f\"\"\"\n",
    "La calificación promedio de usuarios para Xbox One es: {score_xone.mean()}\n",
    "La calificación promedio de usuarios para PC: {score_pc.mean()}\n",
    "t-statistic: {results_platforms.statistic}\n",
    "p-value: {results_platforms.pvalue} \n",
    "\"\"\")\n",
    "\n",
    "if results_platforms.pvalue < alpha:\n",
    "    print('Se rechaza la hipótesis nula')\n",
    "else:\n",
    "    print('No se puede rechazar la hipótesis nula')"
   ]
  },
  {
   "cell_type": "markdown",
   "id": "ea7db52b",
   "metadata": {},
   "source": [
    "En este caso aceptamos la hipótesis alternativa: Las calificaciónes promedio de los usuarios para las plataformas XOne y PC son diferentes"
   ]
  },
  {
   "cell_type": "markdown",
   "id": "b5b7d709",
   "metadata": {},
   "source": [
    "H0 : Las calificaciones promedio de los usuarios para los géneros de Acción y Deportes son iguales.\n",
    "\n",
    "H1 : Las calificaciones promedio de los usuarios para los géneros de Acción y Deportes son diferentes."
   ]
  },
  {
   "cell_type": "code",
   "execution_count": 33,
   "id": "f29ecc78",
   "metadata": {},
   "outputs": [
    {
     "name": "stdout",
     "output_type": "stream",
     "text": [
      "\n",
      "La calificación promedio de usuarios para el género acción: 7.054043715846995\n",
      "La calificación promedio de usuarios para el género sports: 6.961196736174069\n",
      "t-statistic: 1.57746791633354\n",
      "p-value: 0.11483818791498286 \n",
      "\n",
      "No se puede rechazar la hipótesis nula\n"
     ]
    }
   ],
   "source": [
    "score_action = games[games['genre'] == 'Action']['user_score'].dropna()\n",
    "score_sports = games[games['genre'] == 'Sports']['user_score'].dropna()\n",
    "#establecemos el nivel de significancia alpha\n",
    "alpha = 0.05\n",
    "#realizamos una t de student puesto que desconocemos las varianzas de cada muestra\n",
    "#equal_var lo ponemos como False ya que asumimos que son varianzas diferentes\n",
    "results_genre = st.ttest_ind(score_action, score_sports, equal_var = False)\n",
    "print(f\"\"\"\n",
    "La calificación promedio de usuarios para el género acción: {score_action.mean()}\n",
    "La calificación promedio de usuarios para el género sports: {score_sports.mean()}\n",
    "t-statistic: {results_genre.statistic}\n",
    "p-value: {results_genre.pvalue} \n",
    "\"\"\")\n",
    "\n",
    "if results_genre.pvalue < alpha:\n",
    "    print('Se rechaza la hipótesis nula')\n",
    "else:\n",
    "    print('No se puede rechazar la hipótesis nula')"
   ]
  },
  {
   "cell_type": "markdown",
   "id": "461cefd4",
   "metadata": {},
   "source": [
    "En este caso aceptamos la H0: Las calificaciones promedio de los usuarios para los géneros de Acción y Deportes son iguales."
   ]
  },
  {
   "cell_type": "markdown",
   "id": "2ec823ad",
   "metadata": {},
   "source": [
    "<div class=\"alert alert-block alert-success\">\n",
    "<b>Comentario del revisor</b> <a class=“tocSkip”></a>\n",
    "Has llevado a cabo pruebas de hipótesis de manera efectiva para explorar las diferencias en las calificaciones de los usuarios entre plataformas y géneros, lo cual es un componente esencial del análisis estadístico. Tu enfoque y conclusiones son claros y bien fundamentados, proporcionando una base sólida para entender las preferencias de los usuarios y su impacto en las ventas.\n",
    "</div>"
   ]
  },
  {
   "cell_type": "markdown",
   "id": "376de19b",
   "metadata": {},
   "source": [
    "<div class=\"alert alert-block alert-warning\">\n",
    "<b>Comentario del Revisor:</b>\n",
    "<br>\n",
    "Tu enfoque para realizar las pruebas de hipótesis es sólido, sin embargo, te recomiendo encarecidamente revisar la documentación oficial de <code>scipy.stats.ttest_ind</code> para optimizar tu análisis, especialmente en lo que respecta al manejo de valores NaN en tus datasets. Un aspecto crucial que podrías mejorar es la inclusión del parámetro <code>nan_policy='omit'</code> en tus pruebas de hipótesis. Este parámetro te permite manejar de manera eficiente los valores NaN, omitiéndolos durante el cálculo, lo cual es esencial para no tener que eliminar o imputar manualmente estos valores antes de realizar las pruebas.\n",
    "<br><br>\n",
    "Para más información sobre cómo implementar este parámetro y explorar otras funcionalidades útiles, te invito a consultar la documentación oficial de <code>scipy.stats.ttest_ind</code> aquí: <a href=\"https://docs.scipy.org/doc/scipy/reference/generated/scipy.stats.ttest_ind.html\">Scipy Documentation</a>. Esto no solo enriquecerá tu comprensión del método sino que también te proporcionará herramientas para realizar análisis estadísticos más robustos y precisos.\n",
    "</div>\n"
   ]
  },
  {
   "cell_type": "markdown",
   "id": "63aae9dd",
   "metadata": {},
   "source": [
    "### Paso 6. Escribe una conclusión general\n",
    "\n",
    "En este proyecto trabajé con un Dataset de videojuegos. Con todo el análisis de los datos y las pruebas de hipótesis pude sacar las siguientes conclusiones:\n",
    "\n",
    "* Las ventas totales son diferentes para cada región, Norteamérica es el primer país con mayores ventas, seguido de Europa y finalizando con Japón. Esto podría deberse al costo de los videojuegos en cada país (tengo entendido que en Japón los videojuegos son mucho más baratos que en NA).\n",
    "\n",
    "\n",
    "* También, observamos que la crítica de los profesionales influye positivamente en las ventas totales de un videojuego, no siendolo así para las críticas de los usuarios.\n",
    "\n",
    "\n",
    "* Observamos que el género de juego con mayor rentabilidad son los plataformeros, ya que el promedio de ventas totles es el mayor para todas las regiones. Sin embargo, los géneros sport, acción, shooter y role-playing tienen una suma mayor en ventas (esto muy probablemente se debe a que son el género de juegos con mayor cantidad de lanzamientos).\n",
    "\n",
    "\n",
    "* No podemos sacar conclusiones de los juegos lanzados a partir de 2017 en adelante puesto que no tenemos datos, sin embargo con estos datos podríamos realizar estudios posteriores con algún modelo de predicciones. \n",
    "\n",
    "\n",
    "* Con las pruebas de hipótesis pudimos probar que la puntuación media de los usuarios es diferente entre una plataforma y otra, los usuarios de Xbox One son más estrictos que los de PC. Sin embargo entre los géneros Sport y Action no hay diferencia entre la puntuación media de los usuarios."
   ]
  },
  {
   "cell_type": "markdown",
   "id": "fbd238fc",
   "metadata": {},
   "source": [
    "<div class=\"alert alert-block alert-success\">\n",
    "<b>Comentario del revisor</b> <a class=“tocSkip”></a>\n",
    "Tus conclusiones generales resumen bien los hallazgos clave de tu análisis, ofreciendo insights valiosos sobre el mercado de videojuegos. Destacas correctamente la importancia de considerar diferentes factores, como las reseñas de los críticos y las preferencias de género, al analizar las ventas de videojuegos. Tu enfoque en las tendencias de ventas según la región y la clasificación de ESRB también proporciona una base sólida para futuras investigaciones y decisiones estratégicas en la industria.\n",
    "</div>"
   ]
  },
  {
   "cell_type": "markdown",
   "id": "2826383c",
   "metadata": {},
   "source": [
    "<div class=\"alert alert-block alert-success\">\n",
    "<b>Comentario del revisor</b> <a class=\"tocSkip\"></a>\n",
    "\n",
    "¡Impresionante esfuerzo en este proyecto! 🌟 **Este proyecto está listo para ser aprobado.**<br>\n",
    "Tu habilidad para ejecutar y presentar este trabajo es admirable.<br>\n",
    "<br>Es un placer reconocer tu dedicación y el análisis detallado que has llevado a cabo. Continúa superándote en tus futuras iniciativas. Confío en que aplicarás este conocimiento de manera efectiva en desafíos futuros, avanzando hacia objetivos aún más ambiciosos.\n",
    "</div>\n"
   ]
  }
 ],
 "metadata": {
  "kernelspec": {
   "display_name": "Python 3 (ipykernel)",
   "language": "python",
   "name": "python3"
  },
  "language_info": {
   "codemirror_mode": {
    "name": "ipython",
    "version": 3
   },
   "file_extension": ".py",
   "mimetype": "text/x-python",
   "name": "python",
   "nbconvert_exporter": "python",
   "pygments_lexer": "ipython3",
   "version": "3.9.5"
  },
  "toc": {
   "base_numbering": 1,
   "nav_menu": {},
   "number_sections": true,
   "sideBar": true,
   "skip_h1_title": true,
   "title_cell": "Table of Contents",
   "title_sidebar": "Contents",
   "toc_cell": false,
   "toc_position": {},
   "toc_section_display": true,
   "toc_window_display": false
  }
 },
 "nbformat": 4,
 "nbformat_minor": 5
}
